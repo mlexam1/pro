{
 "cells": [
  {
   "cell_type": "markdown",
   "metadata": {},
   "source": [
    "# Pumpkin Price Linear Regression\n",
    "\n",
    "Linear regression is the simplest kind of model you can usefully build. So simple, in fact, that we're going to implement an example by hand in four lines of code!"
   ]
  },
  {
   "cell_type": "code",
   "execution_count": 1,
   "metadata": {
    "_cell_guid": "f25ffa7c-1d9c-4830-a842-17d8317950f0",
    "_uuid": "ac5ecc2b7db94d0588b82615d4e291b21a4f6840"
   },
   "outputs": [],
   "source": [
    "import pandas as pd\n",
    "nyc_pumpkins = pd.read_csv(\"../input/new-york_9-24-2016_9-30-2017.csv\")\n",
    "cat_map = {\n",
    "    'sml': 0,\n",
    "    'med': 1,\n",
    "    'med-lge': 2,\n",
    "    'lge': 3,\n",
    "    'xlge': 4,\n",
    "    'exjbo': 5\n",
    "}\n",
    "nyc_pumpkins = nyc_pumpkins.assign(\n",
    "    size=nyc_pumpkins['Item Size'].map(cat_map),\n",
    "    price=nyc_pumpkins['High Price'] + nyc_pumpkins['Low Price'] / 2,\n",
    "    size_class=(nyc_pumpkins['Item Size'].map(cat_map) >= 2).astype(int)\n",
    ")\n",
    "nyc_pumpkins = nyc_pumpkins.drop([c for c in nyc_pumpkins.columns if c not in ['size', 'price', 'size_class']], \n",
    "                                 axis='columns')\n",
    "nyc_pumpkins = nyc_pumpkins.dropna()"
   ]
  },
  {
   "cell_type": "markdown",
   "metadata": {},
   "source": [
    "The following plot in `seaborn` shows that your regression isn't going to get you that far. There seems to be very little difference in price between size 3 and size 4 pumpkins, for example, which violates the linearity assumption of ordinary least squares.\n",
    "\n",
    "We'll write a regressor anyway, though, because we're not interested in having a good model&mdash;I just want to demonstrate how easy it is to write a `scikit` style estimator by hand!"
   ]
  },
  {
   "cell_type": "code",
   "execution_count": 2,
   "metadata": {
    "_cell_guid": "0886e72a-ed6c-447a-a7b7-64d7c8df474c",
    "_uuid": "7b13883c8a60c27ad31ab4edfc7a5e3bc9426e26"
   },
   "outputs": [
    {
     "data": {
      "text/plain": [
       "<matplotlib.axes._subplots.AxesSubplot at 0x7f1ea9d95e48>"
      ]
     },
     "execution_count": 2,
     "metadata": {},
     "output_type": "execute_result"
    },
    {
     "data": {
      "image/png": "[encoded data removed]",
      "text/plain": [
       "<matplotlib.figure.Figure at 0x7f1eaa267fd0>"
      ]
     },
     "metadata": {},
     "output_type": "display_data"
    }
   ],
   "source": [
    "import seaborn as sns\n",
    "sns.regplot('size', 'price', data=nyc_pumpkins)"
   ]
  },
  {
   "cell_type": "markdown",
   "metadata": {},
   "source": [
    "To produce an ordinary least squares (OLS) solution for linear regression, you need to solve the matrix equation:\n",
    "\n",
    "$$\\hat{\\beta} = (X^T X)^{-1}X^T y$$\n",
    "\n",
    "The following tiny bit of code does just that:"
   ]
  },
  {
   "cell_type": "code",
   "execution_count": 3,
   "metadata": {
    "collapsed": true
   },
   "outputs": [],
   "source": [
    "import numpy as np\n",
    "\n",
    "class LinearRegression:\n",
    "    def fit(self, X, y):\n",
    "        self.betas = np.linalg.inv(X.T @ X) @ X.T @ y\n",
    "        \n",
    "    def predict(self, X):\n",
    "        return X @ self.betas"
   ]
  },
  {
   "cell_type": "code",
   "execution_count": 4,
   "metadata": {},
   "outputs": [],
   "source": [
    "prices = nyc_pumpkins.values[:, :1]\n",
    "sizes = nyc_pumpkins.values[:, 1:2]\n",
    "\n",
    "clf = LinearRegression()\n",
    "clf.fit(prices, sizes)\n",
    "predicted_sizes = np.round(clf.predict(prices))"
   ]
  },
  {
   "cell_type": "markdown",
   "metadata": {},
   "source": [
    "Here are our results:"
   ]
  },
  {
   "cell_type": "code",
   "execution_count": 5,
   "metadata": {},
   "outputs": [
    {
     "data": {
      "text/html": [
       "<div>\n",
       "<style>\n",
       "    .dataframe thead tr:only-child th {\n",
       "        text-align: right;\n",
       "    }\n",
       "\n",
       "    .dataframe thead th {\n",
       "        text-align: left;\n",
       "    }\n",
       "\n",
       "    .dataframe tbody tr th {\n",
       "        vertical-align: top;\n",
       "    }\n",
       "</style>\n",
       "<table border=\"1\" class=\"dataframe\">\n",
       "  <thead>\n",
       "    <tr style=\"text-align: right;\">\n",
       "      <th></th>\n",
       "      <th>size</th>\n",
       "      <th>predicted_size</th>\n",
       "    </tr>\n",
       "  </thead>\n",
       "  <tbody>\n",
       "    <tr>\n",
       "      <th>0</th>\n",
       "      <td>4.0</td>\n",
       "      <td>3.0</td>\n",
       "    </tr>\n",
       "    <tr>\n",
       "      <th>1</th>\n",
       "      <td>3.0</td>\n",
       "      <td>3.0</td>\n",
       "    </tr>\n",
       "    <tr>\n",
       "      <th>2</th>\n",
       "      <td>4.0</td>\n",
       "      <td>2.0</td>\n",
       "    </tr>\n",
       "    <tr>\n",
       "      <th>3</th>\n",
       "      <td>3.0</td>\n",
       "      <td>2.0</td>\n",
       "    </tr>\n",
       "    <tr>\n",
       "      <th>4</th>\n",
       "      <td>2.0</td>\n",
       "      <td>2.0</td>\n",
       "    </tr>\n",
       "    <tr>\n",
       "      <th>5</th>\n",
       "      <td>4.0</td>\n",
       "      <td>3.0</td>\n",
       "    </tr>\n",
       "    <tr>\n",
       "      <th>6</th>\n",
       "      <td>3.0</td>\n",
       "      <td>3.0</td>\n",
       "    </tr>\n",
       "    <tr>\n",
       "      <th>7</th>\n",
       "      <td>1.0</td>\n",
       "      <td>3.0</td>\n",
       "    </tr>\n",
       "    <tr>\n",
       "      <th>8</th>\n",
       "      <td>4.0</td>\n",
       "      <td>3.0</td>\n",
       "    </tr>\n",
       "    <tr>\n",
       "      <th>9</th>\n",
       "      <td>3.0</td>\n",
       "      <td>3.0</td>\n",
       "    </tr>\n",
       "  </tbody>\n",
       "</table>\n",
       "</div>"
      ],
      "text/plain": [
       "   size  predicted_size\n",
       "0   4.0             3.0\n",
       "1   3.0             3.0\n",
       "2   4.0             2.0\n",
       "3   3.0             2.0\n",
       "4   2.0             2.0\n",
       "5   4.0             3.0\n",
       "6   3.0             3.0\n",
       "7   1.0             3.0\n",
       "8   4.0             3.0\n",
       "9   3.0             3.0"
      ]
     },
     "execution_count": 5,
     "metadata": {},
     "output_type": "execute_result"
    }
   ],
   "source": [
    "outcome = pd.DataFrame(\n",
    "    [sizes[:, 0], predicted_sizes[:, 0]]\n",
    ").T.rename(columns={0: 'size', 1: 'predicted_size'})\n",
    "outcome.head(10)"
   ]
  },
  {
   "cell_type": "markdown",
   "metadata": {},
   "source": [
    "Here are our resultant errors visualized in terms of how often we commit it in terms of absolute difference."
   ]
  },
  {
   "cell_type": "code",
   "execution_count": 6,
   "metadata": {},
   "outputs": [
    {
     "data": {
      "text/plain": [
       "<matplotlib.axes._subplots.AxesSubplot at 0x7f1ea69d55c0>"
      ]
     },
     "execution_count": 6,
     "metadata": {},
     "output_type": "execute_result"
    },
    {
     "data": {
      "image/png": "[encoded data removed]",
      "text/plain": [
       "<matplotlib.figure.Figure at 0x7f1ea45a7eb8>"
      ]
     },
     "metadata": {},
     "output_type": "display_data"
    }
   ],
   "source": [
    "import matplotlib.pyplot as plt\n",
    "plt.style.use('fivethirtyeight')\n",
    "\n",
    "(outcome['size'] - outcome.predicted_size).value_counts().sort_index().plot.bar(\n",
    "    title='$y - \\hat{y}$'\n",
    ")"
   ]
  },
  {
   "cell_type": "markdown",
   "metadata": {},
   "source": [
    "Our little estimator commits a lot of error. But if we're satisfied with a result that's plus-minus one size category (these size categories are pretty arbitrary anyway; see Bouchard's kernel), then we're right 80% of the time. Which is still meh, but is probably OK for pumpkin-shopping purposes."
   ]
  },
  {
   "cell_type": "code",
   "execution_count": 7,
   "metadata": {},
   "outputs": [
    {
     "data": {
      "text/plain": [
       "<matplotlib.axes._subplots.AxesSubplot at 0x7f1ea42b0358>"
      ]
     },
     "execution_count": 7,
     "metadata": {},
     "output_type": "execute_result"
    },
    {
     "data": {
      "image/png": "[encoded data removed]",
      "text/plain": [
       "<matplotlib.figure.Figure at 0x7f1ea4523208>"
      ]
     },
     "metadata": {},
     "output_type": "display_data"
    }
   ],
   "source": [
    "pd.Series(\n",
    "    np.abs((outcome['size'] - outcome.predicted_size).values) <= 1\n",
    ").value_counts().plot.bar(title='Accuracy Within 1 Class')"
   ]
  }
 ],
 "metadata": {
  "kernelspec": {
   "display_name": "Python 3",
   "language": "python",
   "name": "python3"
  },
  "language_info": {
   "codemirror_mode": {
    "name": "ipython",
    "version": 3
   },
   "file_extension": ".py",
   "mimetype": "text/x-python",
   "name": "python",
   "nbconvert_exporter": "python",
   "pygments_lexer": "ipython3",
   "version": "3.6.3"
  }
 },
 "nbformat": 4,
 "nbformat_minor": 1
}
