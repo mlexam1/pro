{
 "cells": [
  {
   "cell_type": "markdown",
   "id": "521d8802",
   "metadata": {
    "papermill": {
     "duration": 0.02431,
     "end_time": "2023-02-02T13:56:52.107228",
     "exception": false,
     "start_time": "2023-02-02T13:56:52.082918",
     "status": "completed"
    },
    "tags": []
   },
   "source": [
    "# Medical Student Mental Health and Wellbeing\n",
    "### The objective of this dataset is to gain insight into the wellbeing of medical students in order to promote better policies by understanding relationships between these variables."
   ]
  },
  {
   "cell_type": "markdown",
   "id": "3b418b1b",
   "metadata": {
    "papermill": {
     "duration": 0.017703,
     "end_time": "2023-02-02T13:56:52.142753",
     "exception": false,
     "start_time": "2023-02-02T13:56:52.125050",
     "status": "completed"
    },
    "tags": []
   },
   "source": [
    "#### Author : Fares Sayadi"
   ]
  },
  {
   "cell_type": "code",
   "execution_count": 1,
   "id": "ec8f6692",
   "metadata": {
    "execution": {
     "iopub.execute_input": "2023-02-02T13:56:52.181006Z",
     "iopub.status.busy": "2023-02-02T13:56:52.180227Z",
     "iopub.status.idle": "2023-02-02T13:56:53.333967Z",
     "shell.execute_reply": "2023-02-02T13:56:53.332468Z"
    },
    "papermill": {
     "duration": 1.177128,
     "end_time": "2023-02-02T13:56:53.337845",
     "exception": false,
     "start_time": "2023-02-02T13:56:52.160717",
     "status": "completed"
    },
    "tags": []
   },
   "outputs": [
    {
     "name": "stdout",
     "output_type": "stream",
     "text": [
      "/kaggle/input/medical-student-mental-health/Codebook Carrard et al. 2022 MedTeach.csv\n",
      "/kaggle/input/medical-student-mental-health/Data Carrard et al. 2022 MedTeach.csv\n"
     ]
    }
   ],
   "source": [
    "# This Python 3 environment comes with many helpful analytics libraries installed\n",
    "# It is defined by the kaggle/python Docker image: https://github.com/kaggle/docker-python\n",
    "# For example, here's several helpful packages to load\n",
    "\n",
    "import numpy as np # linear algebra\n",
    "import pandas as pd # data processing, CSV file I/O (e.g. pd.read_csv)\n",
    "import matplotlib.pyplot as plt\n",
    "import seaborn as sns\n",
    "\n",
    "\n",
    "# Input data files are available in the read-only \"../input/\" directory\n",
    "# For example, running this (by clicking run or pressing Shift+Enter) will list all files under the input directory\n",
    "\n",
    "import os\n",
    "for dirname, _, filenames in os.walk('/kaggle/input'):\n",
    "    for filename in filenames:\n",
    "        print(os.path.join(dirname, filename))\n",
    "\n",
    "# You can write up to 20GB to the current directory (/kaggle/working/) that gets preserved as output when you create a version using \"Save & Run All\" \n",
    "# You can also write temporary files to /kaggle/temp/, but they won't be saved outside of the current session"
   ]
  },
  {
   "cell_type": "code",
   "execution_count": 2,
   "id": "0bab5e4f",
   "metadata": {
    "collapsed": false,
    "execution": {
     "iopub.execute_input": "2023-02-02T13:56:53.376440Z",
     "iopub.status.busy": "2023-02-02T13:56:53.374762Z",
     "iopub.status.idle": "2023-02-02T13:56:53.400849Z",
     "shell.execute_reply": "2023-02-02T13:56:53.399740Z"
    },
    "jupyter": {
     "outputs_hidden": false
    },
    "papermill": {
     "duration": 0.048202,
     "end_time": "2023-02-02T13:56:53.403898",
     "exception": false,
     "start_time": "2023-02-02T13:56:53.355696",
     "status": "completed"
    },
    "tags": []
   },
   "outputs": [],
   "source": [
    "# Load the data and store it in a pandas dataframe\n",
    "df = pd.read_csv('/kaggle/input/medical-student-mental-health/Data Carrard et al. 2022 MedTeach.csv')"
   ]
  },
  {
   "cell_type": "code",
   "execution_count": 3,
   "id": "325ecbf6",
   "metadata": {
    "collapsed": false,
    "execution": {
     "iopub.execute_input": "2023-02-02T13:56:53.440754Z",
     "iopub.status.busy": "2023-02-02T13:56:53.440232Z",
     "iopub.status.idle": "2023-02-02T13:56:53.470584Z",
     "shell.execute_reply": "2023-02-02T13:56:53.469070Z"
    },
    "jupyter": {
     "outputs_hidden": false
    },
    "papermill": {
     "duration": 0.051996,
     "end_time": "2023-02-02T13:56:53.473455",
     "exception": false,
     "start_time": "2023-02-02T13:56:53.421459",
     "status": "completed"
    },
    "tags": []
   },
   "outputs": [
    {
     "data": {
      "text/html": [
       "<div>\n",
       "<style scoped>\n",
       "    .dataframe tbody tr th:only-of-type {\n",
       "        vertical-align: middle;\n",
       "    }\n",
       "\n",
       "    .dataframe tbody tr th {\n",
       "        vertical-align: top;\n",
       "    }\n",
       "\n",
       "    .dataframe thead th {\n",
       "        text-align: right;\n",
       "    }\n",
       "</style>\n",
       "<table border=\"1\" class=\"dataframe\">\n",
       "  <thead>\n",
       "    <tr style=\"text-align: right;\">\n",
       "      <th></th>\n",
       "      <th>id</th>\n",
       "      <th>age</th>\n",
       "      <th>year</th>\n",
       "      <th>sex</th>\n",
       "      <th>glang</th>\n",
       "      <th>part</th>\n",
       "      <th>job</th>\n",
       "      <th>stud_h</th>\n",
       "      <th>health</th>\n",
       "      <th>psyt</th>\n",
       "      <th>jspe</th>\n",
       "      <th>qcae_cog</th>\n",
       "      <th>qcae_aff</th>\n",
       "      <th>amsp</th>\n",
       "      <th>erec_mean</th>\n",
       "      <th>cesd</th>\n",
       "      <th>stai_t</th>\n",
       "      <th>mbi_ex</th>\n",
       "      <th>mbi_cy</th>\n",
       "      <th>mbi_ea</th>\n",
       "    </tr>\n",
       "  </thead>\n",
       "  <tbody>\n",
       "    <tr>\n",
       "      <th>0</th>\n",
       "      <td>2</td>\n",
       "      <td>18</td>\n",
       "      <td>1</td>\n",
       "      <td>1</td>\n",
       "      <td>120</td>\n",
       "      <td>1</td>\n",
       "      <td>0</td>\n",
       "      <td>56</td>\n",
       "      <td>3</td>\n",
       "      <td>0</td>\n",
       "      <td>88</td>\n",
       "      <td>62</td>\n",
       "      <td>27</td>\n",
       "      <td>17</td>\n",
       "      <td>0.738095</td>\n",
       "      <td>34</td>\n",
       "      <td>61</td>\n",
       "      <td>17</td>\n",
       "      <td>13</td>\n",
       "      <td>20</td>\n",
       "    </tr>\n",
       "    <tr>\n",
       "      <th>1</th>\n",
       "      <td>4</td>\n",
       "      <td>26</td>\n",
       "      <td>4</td>\n",
       "      <td>1</td>\n",
       "      <td>1</td>\n",
       "      <td>1</td>\n",
       "      <td>0</td>\n",
       "      <td>20</td>\n",
       "      <td>4</td>\n",
       "      <td>0</td>\n",
       "      <td>109</td>\n",
       "      <td>55</td>\n",
       "      <td>37</td>\n",
       "      <td>22</td>\n",
       "      <td>0.690476</td>\n",
       "      <td>7</td>\n",
       "      <td>33</td>\n",
       "      <td>14</td>\n",
       "      <td>11</td>\n",
       "      <td>26</td>\n",
       "    </tr>\n",
       "    <tr>\n",
       "      <th>2</th>\n",
       "      <td>9</td>\n",
       "      <td>21</td>\n",
       "      <td>3</td>\n",
       "      <td>2</td>\n",
       "      <td>1</td>\n",
       "      <td>0</td>\n",
       "      <td>0</td>\n",
       "      <td>36</td>\n",
       "      <td>3</td>\n",
       "      <td>0</td>\n",
       "      <td>106</td>\n",
       "      <td>64</td>\n",
       "      <td>39</td>\n",
       "      <td>17</td>\n",
       "      <td>0.690476</td>\n",
       "      <td>25</td>\n",
       "      <td>73</td>\n",
       "      <td>24</td>\n",
       "      <td>7</td>\n",
       "      <td>23</td>\n",
       "    </tr>\n",
       "    <tr>\n",
       "      <th>3</th>\n",
       "      <td>10</td>\n",
       "      <td>21</td>\n",
       "      <td>2</td>\n",
       "      <td>2</td>\n",
       "      <td>1</td>\n",
       "      <td>0</td>\n",
       "      <td>1</td>\n",
       "      <td>51</td>\n",
       "      <td>5</td>\n",
       "      <td>0</td>\n",
       "      <td>101</td>\n",
       "      <td>52</td>\n",
       "      <td>33</td>\n",
       "      <td>18</td>\n",
       "      <td>0.833333</td>\n",
       "      <td>17</td>\n",
       "      <td>48</td>\n",
       "      <td>16</td>\n",
       "      <td>10</td>\n",
       "      <td>21</td>\n",
       "    </tr>\n",
       "    <tr>\n",
       "      <th>4</th>\n",
       "      <td>13</td>\n",
       "      <td>21</td>\n",
       "      <td>3</td>\n",
       "      <td>1</td>\n",
       "      <td>1</td>\n",
       "      <td>1</td>\n",
       "      <td>0</td>\n",
       "      <td>22</td>\n",
       "      <td>4</td>\n",
       "      <td>0</td>\n",
       "      <td>102</td>\n",
       "      <td>58</td>\n",
       "      <td>28</td>\n",
       "      <td>21</td>\n",
       "      <td>0.690476</td>\n",
       "      <td>14</td>\n",
       "      <td>46</td>\n",
       "      <td>22</td>\n",
       "      <td>14</td>\n",
       "      <td>23</td>\n",
       "    </tr>\n",
       "    <tr>\n",
       "      <th>5</th>\n",
       "      <td>14</td>\n",
       "      <td>26</td>\n",
       "      <td>5</td>\n",
       "      <td>2</td>\n",
       "      <td>1</td>\n",
       "      <td>1</td>\n",
       "      <td>1</td>\n",
       "      <td>10</td>\n",
       "      <td>2</td>\n",
       "      <td>0</td>\n",
       "      <td>102</td>\n",
       "      <td>48</td>\n",
       "      <td>37</td>\n",
       "      <td>17</td>\n",
       "      <td>0.690476</td>\n",
       "      <td>14</td>\n",
       "      <td>56</td>\n",
       "      <td>18</td>\n",
       "      <td>15</td>\n",
       "      <td>18</td>\n",
       "    </tr>\n",
       "    <tr>\n",
       "      <th>6</th>\n",
       "      <td>17</td>\n",
       "      <td>23</td>\n",
       "      <td>5</td>\n",
       "      <td>2</td>\n",
       "      <td>1</td>\n",
       "      <td>1</td>\n",
       "      <td>0</td>\n",
       "      <td>15</td>\n",
       "      <td>3</td>\n",
       "      <td>0</td>\n",
       "      <td>117</td>\n",
       "      <td>58</td>\n",
       "      <td>38</td>\n",
       "      <td>23</td>\n",
       "      <td>0.714286</td>\n",
       "      <td>45</td>\n",
       "      <td>56</td>\n",
       "      <td>28</td>\n",
       "      <td>17</td>\n",
       "      <td>16</td>\n",
       "    </tr>\n",
       "    <tr>\n",
       "      <th>7</th>\n",
       "      <td>21</td>\n",
       "      <td>23</td>\n",
       "      <td>4</td>\n",
       "      <td>1</td>\n",
       "      <td>1</td>\n",
       "      <td>1</td>\n",
       "      <td>1</td>\n",
       "      <td>8</td>\n",
       "      <td>4</td>\n",
       "      <td>0</td>\n",
       "      <td>118</td>\n",
       "      <td>65</td>\n",
       "      <td>40</td>\n",
       "      <td>32</td>\n",
       "      <td>0.880952</td>\n",
       "      <td>6</td>\n",
       "      <td>36</td>\n",
       "      <td>11</td>\n",
       "      <td>10</td>\n",
       "      <td>27</td>\n",
       "    </tr>\n",
       "    <tr>\n",
       "      <th>8</th>\n",
       "      <td>23</td>\n",
       "      <td>23</td>\n",
       "      <td>4</td>\n",
       "      <td>2</td>\n",
       "      <td>1</td>\n",
       "      <td>1</td>\n",
       "      <td>1</td>\n",
       "      <td>20</td>\n",
       "      <td>2</td>\n",
       "      <td>0</td>\n",
       "      <td>118</td>\n",
       "      <td>69</td>\n",
       "      <td>46</td>\n",
       "      <td>23</td>\n",
       "      <td>0.666667</td>\n",
       "      <td>43</td>\n",
       "      <td>43</td>\n",
       "      <td>26</td>\n",
       "      <td>21</td>\n",
       "      <td>22</td>\n",
       "    </tr>\n",
       "    <tr>\n",
       "      <th>9</th>\n",
       "      <td>24</td>\n",
       "      <td>22</td>\n",
       "      <td>2</td>\n",
       "      <td>2</td>\n",
       "      <td>1</td>\n",
       "      <td>1</td>\n",
       "      <td>0</td>\n",
       "      <td>20</td>\n",
       "      <td>5</td>\n",
       "      <td>0</td>\n",
       "      <td>108</td>\n",
       "      <td>56</td>\n",
       "      <td>36</td>\n",
       "      <td>22</td>\n",
       "      <td>0.690476</td>\n",
       "      <td>11</td>\n",
       "      <td>43</td>\n",
       "      <td>18</td>\n",
       "      <td>6</td>\n",
       "      <td>23</td>\n",
       "    </tr>\n",
       "  </tbody>\n",
       "</table>\n",
       "</div>"
      ],
      "text/plain": [
       "   id  age  year  sex  glang  part  job  stud_h  health  psyt  jspe  qcae_cog  \\\n",
       "0   2   18     1    1    120     1    0      56       3     0    88        62   \n",
       "1   4   26     4    1      1     1    0      20       4     0   109        55   \n",
       "2   9   21     3    2      1     0    0      36       3     0   106        64   \n",
       "3  10   21     2    2      1     0    1      51       5     0   101        52   \n",
       "4  13   21     3    1      1     1    0      22       4     0   102        58   \n",
       "5  14   26     5    2      1     1    1      10       2     0   102        48   \n",
       "6  17   23     5    2      1     1    0      15       3     0   117        58   \n",
       "7  21   23     4    1      1     1    1       8       4     0   118        65   \n",
       "8  23   23     4    2      1     1    1      20       2     0   118        69   \n",
       "9  24   22     2    2      1     1    0      20       5     0   108        56   \n",
       "\n",
       "   qcae_aff  amsp  erec_mean  cesd  stai_t  mbi_ex  mbi_cy  mbi_ea  \n",
       "0        27    17   0.738095    34      61      17      13      20  \n",
       "1        37    22   0.690476     7      33      14      11      26  \n",
       "2        39    17   0.690476    25      73      24       7      23  \n",
       "3        33    18   0.833333    17      48      16      10      21  \n",
       "4        28    21   0.690476    14      46      22      14      23  \n",
       "5        37    17   0.690476    14      56      18      15      18  \n",
       "6        38    23   0.714286    45      56      28      17      16  \n",
       "7        40    32   0.880952     6      36      11      10      27  \n",
       "8        46    23   0.666667    43      43      26      21      22  \n",
       "9        36    22   0.690476    11      43      18       6      23  "
      ]
     },
     "execution_count": 3,
     "metadata": {},
     "output_type": "execute_result"
    }
   ],
   "source": [
    "# Check the first 10 rows of the data\n",
    "df.head(10)"
   ]
  },
  {
   "cell_type": "markdown",
   "id": "fea833f3",
   "metadata": {
    "papermill": {
     "duration": 0.017538,
     "end_time": "2023-02-02T13:56:53.509158",
     "exception": false,
     "start_time": "2023-02-02T13:56:53.491620",
     "status": "completed"
    },
    "tags": []
   },
   "source": [
    "## Data Cleaning and Preprocessing (DCP)"
   ]
  },
  {
   "cell_type": "code",
   "execution_count": 4,
   "id": "c7660bef",
   "metadata": {
    "collapsed": false,
    "execution": {
     "iopub.execute_input": "2023-02-02T13:56:53.547767Z",
     "iopub.status.busy": "2023-02-02T13:56:53.547210Z",
     "iopub.status.idle": "2023-02-02T13:56:53.554844Z",
     "shell.execute_reply": "2023-02-02T13:56:53.553606Z"
    },
    "jupyter": {
     "outputs_hidden": false
    },
    "papermill": {
     "duration": 0.031278,
     "end_time": "2023-02-02T13:56:53.558754",
     "exception": false,
     "start_time": "2023-02-02T13:56:53.527476",
     "status": "completed"
    },
    "tags": []
   },
   "outputs": [
    {
     "name": "stdout",
     "output_type": "stream",
     "text": [
      "Index(['id', 'age', 'year', 'sex', 'glang', 'part', 'job', 'stud_h', 'health',\n",
      "       'psyt', 'jspe', 'qcae_cog', 'qcae_aff', 'amsp', 'erec_mean', 'cesd',\n",
      "       'stai_t', 'mbi_ex', 'mbi_cy', 'mbi_ea'],\n",
      "      dtype='object')\n",
      "(886, 20)\n"
     ]
    }
   ],
   "source": [
    "# what columns do we have?\n",
    "print(df.columns)\n",
    "# what are the data types of the columns?\n",
    "print(df.shape)"
   ]
  },
  {
   "cell_type": "code",
   "execution_count": 5,
   "id": "42363abd",
   "metadata": {
    "collapsed": false,
    "execution": {
     "iopub.execute_input": "2023-02-02T13:56:53.599646Z",
     "iopub.status.busy": "2023-02-02T13:56:53.599039Z",
     "iopub.status.idle": "2023-02-02T13:56:53.611406Z",
     "shell.execute_reply": "2023-02-02T13:56:53.609968Z"
    },
    "jupyter": {
     "outputs_hidden": false
    },
    "papermill": {
     "duration": 0.035804,
     "end_time": "2023-02-02T13:56:53.614039",
     "exception": false,
     "start_time": "2023-02-02T13:56:53.578235",
     "status": "completed"
    },
    "tags": []
   },
   "outputs": [],
   "source": [
    "# drop column 'id' as it is not relevant to the research question\n",
    "df = df.drop('id', axis=1)"
   ]
  },
  {
   "cell_type": "code",
   "execution_count": 6,
   "id": "06705856",
   "metadata": {
    "collapsed": false,
    "execution": {
     "iopub.execute_input": "2023-02-02T13:56:53.655633Z",
     "iopub.status.busy": "2023-02-02T13:56:53.655132Z",
     "iopub.status.idle": "2023-02-02T13:56:53.667219Z",
     "shell.execute_reply": "2023-02-02T13:56:53.665555Z"
    },
    "jupyter": {
     "outputs_hidden": false
    },
    "papermill": {
     "duration": 0.038306,
     "end_time": "2023-02-02T13:56:53.670742",
     "exception": false,
     "start_time": "2023-02-02T13:56:53.632436",
     "status": "completed"
    },
    "tags": []
   },
   "outputs": [
    {
     "data": {
      "text/plain": [
       "age          0\n",
       "year         0\n",
       "sex          0\n",
       "glang        0\n",
       "part         0\n",
       "job          0\n",
       "stud_h       0\n",
       "health       0\n",
       "psyt         0\n",
       "jspe         0\n",
       "qcae_cog     0\n",
       "qcae_aff     0\n",
       "amsp         0\n",
       "erec_mean    0\n",
       "cesd         0\n",
       "stai_t       0\n",
       "mbi_ex       0\n",
       "mbi_cy       0\n",
       "mbi_ea       0\n",
       "dtype: int64"
      ]
     },
     "execution_count": 6,
     "metadata": {},
     "output_type": "execute_result"
    }
   ],
   "source": [
    "# check for missing values and remove them if necessary (NaN)\n",
    "df.isnull().sum()"
   ]
  },
  {
   "cell_type": "code",
   "execution_count": 7,
   "id": "eb578d76",
   "metadata": {
    "collapsed": false,
    "execution": {
     "iopub.execute_input": "2023-02-02T13:56:53.720096Z",
     "iopub.status.busy": "2023-02-02T13:56:53.719637Z",
     "iopub.status.idle": "2023-02-02T13:56:53.739194Z",
     "shell.execute_reply": "2023-02-02T13:56:53.737523Z"
    },
    "jupyter": {
     "outputs_hidden": false
    },
    "papermill": {
     "duration": 0.04863,
     "end_time": "2023-02-02T13:56:53.742705",
     "exception": false,
     "start_time": "2023-02-02T13:56:53.694075",
     "status": "completed"
    },
    "tags": []
   },
   "outputs": [
    {
     "data": {
      "text/plain": [
       "0"
      ]
     },
     "execution_count": 7,
     "metadata": {},
     "output_type": "execute_result"
    }
   ],
   "source": [
    "# check for duplicates and remove them if necessary\n",
    "df.duplicated().sum()"
   ]
  },
  {
   "cell_type": "markdown",
   "id": "8a56adda",
   "metadata": {
    "papermill": {
     "duration": 0.019444,
     "end_time": "2023-02-02T13:56:53.781960",
     "exception": false,
     "start_time": "2023-02-02T13:56:53.762516",
     "status": "completed"
    },
    "tags": []
   },
   "source": [
    "We separate the data into two groups: categorical and numerical. We will use different methods to describe and visualize the data in each group."
   ]
  },
  {
   "cell_type": "code",
   "execution_count": 8,
   "id": "8c64ccf0",
   "metadata": {
    "collapsed": false,
    "execution": {
     "iopub.execute_input": "2023-02-02T13:56:53.827474Z",
     "iopub.status.busy": "2023-02-02T13:56:53.826832Z",
     "iopub.status.idle": "2023-02-02T13:56:53.837625Z",
     "shell.execute_reply": "2023-02-02T13:56:53.836248Z"
    },
    "jupyter": {
     "outputs_hidden": false
    },
    "papermill": {
     "duration": 0.035719,
     "end_time": "2023-02-02T13:56:53.840243",
     "exception": false,
     "start_time": "2023-02-02T13:56:53.804524",
     "status": "completed"
    },
    "tags": []
   },
   "outputs": [],
   "source": [
    "# Separate the data into two groups: categorical and numerical\n",
    "df_cat = df[['sex', 'year', 'glang', 'part', 'job', 'stud_h', 'health', 'psyt']]\n",
    "df_num = df[['age', 'jspe', 'qcae_cog', 'qcae_aff', 'amsp', 'erec_mean', 'cesd', 'stai_t', 'mbi_ex', 'mbi_cy', 'mbi_ea']]"
   ]
  },
  {
   "cell_type": "markdown",
   "id": "7650e790",
   "metadata": {
    "papermill": {
     "duration": 0.01799,
     "end_time": "2023-02-02T13:56:53.876793",
     "exception": false,
     "start_time": "2023-02-02T13:56:53.858803",
     "status": "completed"
    },
    "tags": []
   },
   "source": [
    "## Categorical Data"
   ]
  },
  {
   "cell_type": "markdown",
   "id": "d4e6ebcd",
   "metadata": {
    "papermill": {
     "duration": 0.017897,
     "end_time": "2023-02-02T13:56:53.914049",
     "exception": false,
     "start_time": "2023-02-02T13:56:53.896152",
     "status": "completed"
    },
    "tags": []
   },
   "source": [
    "### Description and simple visualization"
   ]
  },
  {
   "cell_type": "code",
   "execution_count": 9,
   "id": "f8dbdf5b",
   "metadata": {
    "collapsed": false,
    "execution": {
     "iopub.execute_input": "2023-02-02T13:56:53.958555Z",
     "iopub.status.busy": "2023-02-02T13:56:53.957425Z",
     "iopub.status.idle": "2023-02-02T13:56:53.976018Z",
     "shell.execute_reply": "2023-02-02T13:56:53.974766Z"
    },
    "jupyter": {
     "outputs_hidden": false
    },
    "papermill": {
     "duration": 0.045804,
     "end_time": "2023-02-02T13:56:53.978806",
     "exception": false,
     "start_time": "2023-02-02T13:56:53.933002",
     "status": "completed"
    },
    "tags": []
   },
   "outputs": [
    {
     "data": {
      "text/html": [
       "<div>\n",
       "<style scoped>\n",
       "    .dataframe tbody tr th:only-of-type {\n",
       "        vertical-align: middle;\n",
       "    }\n",
       "\n",
       "    .dataframe tbody tr th {\n",
       "        vertical-align: top;\n",
       "    }\n",
       "\n",
       "    .dataframe thead th {\n",
       "        text-align: right;\n",
       "    }\n",
       "</style>\n",
       "<table border=\"1\" class=\"dataframe\">\n",
       "  <thead>\n",
       "    <tr style=\"text-align: right;\">\n",
       "      <th></th>\n",
       "      <th>sex</th>\n",
       "      <th>year</th>\n",
       "      <th>glang</th>\n",
       "      <th>part</th>\n",
       "      <th>job</th>\n",
       "      <th>stud_h</th>\n",
       "      <th>health</th>\n",
       "      <th>psyt</th>\n",
       "    </tr>\n",
       "  </thead>\n",
       "  <tbody>\n",
       "    <tr>\n",
       "      <th>0</th>\n",
       "      <td>1</td>\n",
       "      <td>1</td>\n",
       "      <td>120</td>\n",
       "      <td>1</td>\n",
       "      <td>0</td>\n",
       "      <td>56</td>\n",
       "      <td>3</td>\n",
       "      <td>0</td>\n",
       "    </tr>\n",
       "    <tr>\n",
       "      <th>1</th>\n",
       "      <td>1</td>\n",
       "      <td>4</td>\n",
       "      <td>1</td>\n",
       "      <td>1</td>\n",
       "      <td>0</td>\n",
       "      <td>20</td>\n",
       "      <td>4</td>\n",
       "      <td>0</td>\n",
       "    </tr>\n",
       "    <tr>\n",
       "      <th>2</th>\n",
       "      <td>2</td>\n",
       "      <td>3</td>\n",
       "      <td>1</td>\n",
       "      <td>0</td>\n",
       "      <td>0</td>\n",
       "      <td>36</td>\n",
       "      <td>3</td>\n",
       "      <td>0</td>\n",
       "    </tr>\n",
       "    <tr>\n",
       "      <th>3</th>\n",
       "      <td>2</td>\n",
       "      <td>2</td>\n",
       "      <td>1</td>\n",
       "      <td>0</td>\n",
       "      <td>1</td>\n",
       "      <td>51</td>\n",
       "      <td>5</td>\n",
       "      <td>0</td>\n",
       "    </tr>\n",
       "    <tr>\n",
       "      <th>4</th>\n",
       "      <td>1</td>\n",
       "      <td>3</td>\n",
       "      <td>1</td>\n",
       "      <td>1</td>\n",
       "      <td>0</td>\n",
       "      <td>22</td>\n",
       "      <td>4</td>\n",
       "      <td>0</td>\n",
       "    </tr>\n",
       "    <tr>\n",
       "      <th>5</th>\n",
       "      <td>2</td>\n",
       "      <td>5</td>\n",
       "      <td>1</td>\n",
       "      <td>1</td>\n",
       "      <td>1</td>\n",
       "      <td>10</td>\n",
       "      <td>2</td>\n",
       "      <td>0</td>\n",
       "    </tr>\n",
       "    <tr>\n",
       "      <th>6</th>\n",
       "      <td>2</td>\n",
       "      <td>5</td>\n",
       "      <td>1</td>\n",
       "      <td>1</td>\n",
       "      <td>0</td>\n",
       "      <td>15</td>\n",
       "      <td>3</td>\n",
       "      <td>0</td>\n",
       "    </tr>\n",
       "    <tr>\n",
       "      <th>7</th>\n",
       "      <td>1</td>\n",
       "      <td>4</td>\n",
       "      <td>1</td>\n",
       "      <td>1</td>\n",
       "      <td>1</td>\n",
       "      <td>8</td>\n",
       "      <td>4</td>\n",
       "      <td>0</td>\n",
       "    </tr>\n",
       "    <tr>\n",
       "      <th>8</th>\n",
       "      <td>2</td>\n",
       "      <td>4</td>\n",
       "      <td>1</td>\n",
       "      <td>1</td>\n",
       "      <td>1</td>\n",
       "      <td>20</td>\n",
       "      <td>2</td>\n",
       "      <td>0</td>\n",
       "    </tr>\n",
       "    <tr>\n",
       "      <th>9</th>\n",
       "      <td>2</td>\n",
       "      <td>2</td>\n",
       "      <td>1</td>\n",
       "      <td>1</td>\n",
       "      <td>0</td>\n",
       "      <td>20</td>\n",
       "      <td>5</td>\n",
       "      <td>0</td>\n",
       "    </tr>\n",
       "  </tbody>\n",
       "</table>\n",
       "</div>"
      ],
      "text/plain": [
       "   sex  year  glang  part  job  stud_h  health  psyt\n",
       "0    1     1    120     1    0      56       3     0\n",
       "1    1     4      1     1    0      20       4     0\n",
       "2    2     3      1     0    0      36       3     0\n",
       "3    2     2      1     0    1      51       5     0\n",
       "4    1     3      1     1    0      22       4     0\n",
       "5    2     5      1     1    1      10       2     0\n",
       "6    2     5      1     1    0      15       3     0\n",
       "7    1     4      1     1    1       8       4     0\n",
       "8    2     4      1     1    1      20       2     0\n",
       "9    2     2      1     1    0      20       5     0"
      ]
     },
     "execution_count": 9,
     "metadata": {},
     "output_type": "execute_result"
    }
   ],
   "source": [
    "df_cat.head(10)"
   ]
  },
  {
   "cell_type": "code",
   "execution_count": 10,
   "id": "d8938514",
   "metadata": {
    "collapsed": false,
    "execution": {
     "iopub.execute_input": "2023-02-02T13:56:54.023379Z",
     "iopub.status.busy": "2023-02-02T13:56:54.022139Z",
     "iopub.status.idle": "2023-02-02T13:56:54.072103Z",
     "shell.execute_reply": "2023-02-02T13:56:54.071081Z"
    },
    "jupyter": {
     "outputs_hidden": false
    },
    "papermill": {
     "duration": 0.076083,
     "end_time": "2023-02-02T13:56:54.074836",
     "exception": false,
     "start_time": "2023-02-02T13:56:53.998753",
     "status": "completed"
    },
    "tags": []
   },
   "outputs": [
    {
     "data": {
      "text/html": [
       "<div>\n",
       "<style scoped>\n",
       "    .dataframe tbody tr th:only-of-type {\n",
       "        vertical-align: middle;\n",
       "    }\n",
       "\n",
       "    .dataframe tbody tr th {\n",
       "        vertical-align: top;\n",
       "    }\n",
       "\n",
       "    .dataframe thead th {\n",
       "        text-align: right;\n",
       "    }\n",
       "</style>\n",
       "<table border=\"1\" class=\"dataframe\">\n",
       "  <thead>\n",
       "    <tr style=\"text-align: right;\">\n",
       "      <th></th>\n",
       "      <th>sex</th>\n",
       "      <th>year</th>\n",
       "      <th>glang</th>\n",
       "      <th>part</th>\n",
       "      <th>job</th>\n",
       "      <th>stud_h</th>\n",
       "      <th>health</th>\n",
       "      <th>psyt</th>\n",
       "    </tr>\n",
       "  </thead>\n",
       "  <tbody>\n",
       "    <tr>\n",
       "      <th>count</th>\n",
       "      <td>886.000000</td>\n",
       "      <td>886.000000</td>\n",
       "      <td>886.000000</td>\n",
       "      <td>886.000000</td>\n",
       "      <td>886.000000</td>\n",
       "      <td>886.000000</td>\n",
       "      <td>886.000000</td>\n",
       "      <td>886.000000</td>\n",
       "    </tr>\n",
       "    <tr>\n",
       "      <th>mean</th>\n",
       "      <td>1.695260</td>\n",
       "      <td>3.102709</td>\n",
       "      <td>14.327314</td>\n",
       "      <td>0.563205</td>\n",
       "      <td>0.348758</td>\n",
       "      <td>25.288939</td>\n",
       "      <td>3.777652</td>\n",
       "      <td>0.224605</td>\n",
       "    </tr>\n",
       "    <tr>\n",
       "      <th>std</th>\n",
       "      <td>0.472665</td>\n",
       "      <td>1.763937</td>\n",
       "      <td>32.366389</td>\n",
       "      <td>0.496269</td>\n",
       "      <td>0.476847</td>\n",
       "      <td>15.927875</td>\n",
       "      <td>1.061497</td>\n",
       "      <td>0.417558</td>\n",
       "    </tr>\n",
       "    <tr>\n",
       "      <th>min</th>\n",
       "      <td>1.000000</td>\n",
       "      <td>1.000000</td>\n",
       "      <td>1.000000</td>\n",
       "      <td>0.000000</td>\n",
       "      <td>0.000000</td>\n",
       "      <td>0.000000</td>\n",
       "      <td>1.000000</td>\n",
       "      <td>0.000000</td>\n",
       "    </tr>\n",
       "    <tr>\n",
       "      <th>25%</th>\n",
       "      <td>1.000000</td>\n",
       "      <td>1.000000</td>\n",
       "      <td>1.000000</td>\n",
       "      <td>0.000000</td>\n",
       "      <td>0.000000</td>\n",
       "      <td>12.000000</td>\n",
       "      <td>3.000000</td>\n",
       "      <td>0.000000</td>\n",
       "    </tr>\n",
       "    <tr>\n",
       "      <th>50%</th>\n",
       "      <td>2.000000</td>\n",
       "      <td>3.000000</td>\n",
       "      <td>1.000000</td>\n",
       "      <td>1.000000</td>\n",
       "      <td>0.000000</td>\n",
       "      <td>25.000000</td>\n",
       "      <td>4.000000</td>\n",
       "      <td>0.000000</td>\n",
       "    </tr>\n",
       "    <tr>\n",
       "      <th>75%</th>\n",
       "      <td>2.000000</td>\n",
       "      <td>5.000000</td>\n",
       "      <td>1.000000</td>\n",
       "      <td>1.000000</td>\n",
       "      <td>1.000000</td>\n",
       "      <td>36.000000</td>\n",
       "      <td>5.000000</td>\n",
       "      <td>0.000000</td>\n",
       "    </tr>\n",
       "    <tr>\n",
       "      <th>max</th>\n",
       "      <td>3.000000</td>\n",
       "      <td>6.000000</td>\n",
       "      <td>121.000000</td>\n",
       "      <td>1.000000</td>\n",
       "      <td>1.000000</td>\n",
       "      <td>70.000000</td>\n",
       "      <td>5.000000</td>\n",
       "      <td>1.000000</td>\n",
       "    </tr>\n",
       "  </tbody>\n",
       "</table>\n",
       "</div>"
      ],
      "text/plain": [
       "              sex        year       glang        part         job      stud_h  \\\n",
       "count  886.000000  886.000000  886.000000  886.000000  886.000000  886.000000   \n",
       "mean     1.695260    3.102709   14.327314    0.563205    0.348758   25.288939   \n",
       "std      0.472665    1.763937   32.366389    0.496269    0.476847   15.927875   \n",
       "min      1.000000    1.000000    1.000000    0.000000    0.000000    0.000000   \n",
       "25%      1.000000    1.000000    1.000000    0.000000    0.000000   12.000000   \n",
       "50%      2.000000    3.000000    1.000000    1.000000    0.000000   25.000000   \n",
       "75%      2.000000    5.000000    1.000000    1.000000    1.000000   36.000000   \n",
       "max      3.000000    6.000000  121.000000    1.000000    1.000000   70.000000   \n",
       "\n",
       "           health        psyt  \n",
       "count  886.000000  886.000000  \n",
       "mean     3.777652    0.224605  \n",
       "std      1.061497    0.417558  \n",
       "min      1.000000    0.000000  \n",
       "25%      3.000000    0.000000  \n",
       "50%      4.000000    0.000000  \n",
       "75%      5.000000    0.000000  \n",
       "max      5.000000    1.000000  "
      ]
     },
     "execution_count": 10,
     "metadata": {},
     "output_type": "execute_result"
    }
   ],
   "source": [
    "# Naive description of the categorical data\n",
    "df_cat.describe(include='all')"
   ]
  },
  {
   "cell_type": "code",
   "execution_count": 11,
   "id": "856a1c1f",
   "metadata": {
    "collapsed": false,
    "execution": {
     "iopub.execute_input": "2023-02-02T13:56:54.120058Z",
     "iopub.status.busy": "2023-02-02T13:56:54.119566Z",
     "iopub.status.idle": "2023-02-02T13:56:54.332712Z",
     "shell.execute_reply": "2023-02-02T13:56:54.331348Z"
    },
    "jupyter": {
     "outputs_hidden": false
    },
    "papermill": {
     "duration": 0.239643,
     "end_time": "2023-02-02T13:56:54.336750",
     "exception": false,
     "start_time": "2023-02-02T13:56:54.097107",
     "status": "completed"
    },
    "tags": []
   },
   "outputs": [
    {
     "name": "stdout",
     "output_type": "stream",
     "text": [
      "sex\n",
      "col_0  count\n",
      "sex         \n",
      "1        275\n",
      "2        606\n",
      "3          5\n",
      "col_0  percentage\n",
      "sex              \n",
      "1        0.310384\n",
      "2        0.683973\n",
      "3        0.005643\n",
      "-----------------\n",
      "year\n",
      "col_0  count\n",
      "year        \n",
      "1        245\n",
      "2        135\n",
      "3        143\n",
      "4        123\n",
      "5        127\n",
      "6        113\n",
      "col_0  percentage\n",
      "year             \n",
      "1        0.276524\n",
      "2        0.152370\n",
      "3        0.161400\n",
      "4        0.138826\n",
      "5        0.143341\n",
      "6        0.127540\n",
      "-----------------\n",
      "glang\n",
      "col_0  count\n",
      "glang       \n",
      "1        717\n",
      "15        31\n",
      "20        22\n",
      "37         3\n",
      "54         1\n",
      "60         3\n",
      "63         5\n",
      "90        45\n",
      "92         1\n",
      "95         1\n",
      "98         1\n",
      "102       27\n",
      "104        4\n",
      "106        6\n",
      "108        1\n",
      "114        1\n",
      "118        2\n",
      "120        2\n",
      "121       13\n",
      "col_0  percentage\n",
      "glang            \n",
      "1        0.809255\n",
      "15       0.034989\n",
      "20       0.024831\n",
      "37       0.003386\n",
      "54       0.001129\n",
      "60       0.003386\n",
      "63       0.005643\n",
      "90       0.050790\n",
      "92       0.001129\n",
      "95       0.001129\n",
      "98       0.001129\n",
      "102      0.030474\n",
      "104      0.004515\n",
      "106      0.006772\n",
      "108      0.001129\n",
      "114      0.001129\n",
      "118      0.002257\n",
      "120      0.002257\n",
      "121      0.014673\n",
      "-----------------\n",
      "part\n",
      "col_0  count\n",
      "part        \n",
      "0        387\n",
      "1        499\n",
      "col_0  percentage\n",
      "part             \n",
      "0        0.436795\n",
      "1        0.563205\n",
      "-----------------\n",
      "job\n",
      "col_0  count\n",
      "job         \n",
      "0        577\n",
      "1        309\n",
      "col_0  percentage\n",
      "job              \n",
      "0        0.651242\n",
      "1        0.348758\n",
      "-----------------\n",
      "stud_h\n",
      "col_0   count\n",
      "stud_h       \n",
      "0          13\n",
      "1           9\n",
      "2          18\n",
      "3          11\n",
      "4          16\n",
      "...       ...\n",
      "60         16\n",
      "63          2\n",
      "65          5\n",
      "69          1\n",
      "70          6\n",
      "\n",
      "[61 rows x 1 columns]\n",
      "col_0   percentage\n",
      "stud_h            \n",
      "0         0.014673\n",
      "1         0.010158\n",
      "2         0.020316\n",
      "3         0.012415\n",
      "4         0.018059\n",
      "...            ...\n",
      "60        0.018059\n",
      "63        0.002257\n",
      "65        0.005643\n",
      "69        0.001129\n",
      "70        0.006772\n",
      "\n",
      "[61 rows x 1 columns]\n",
      "-----------------\n",
      "health\n",
      "col_0   count\n",
      "health       \n",
      "1          37\n",
      "2          87\n",
      "3         136\n",
      "4         402\n",
      "5         224\n",
      "col_0   percentage\n",
      "health            \n",
      "1         0.041761\n",
      "2         0.098194\n",
      "3         0.153499\n",
      "4         0.453725\n",
      "5         0.252822\n",
      "-----------------\n",
      "psyt\n",
      "col_0  count\n",
      "psyt        \n",
      "0        687\n",
      "1        199\n",
      "col_0  percentage\n",
      "psyt             \n",
      "0        0.775395\n",
      "1        0.224605\n",
      "-----------------\n"
     ]
    }
   ],
   "source": [
    "# Count and percentage of each category for each feature\n",
    "for col in df_cat.columns:\n",
    "    print(col) # print the name of the column\n",
    "    print(pd.crosstab(index=df_cat[col], columns='count')) # print the count of each category\n",
    "    print(pd.crosstab(index=df_cat[col], columns='percentage', normalize=True)) # print the percentage of each category\n",
    "    print('-----------------')"
   ]
  },
  {
   "cell_type": "code",
   "execution_count": 12,
   "id": "6e5e6148",
   "metadata": {
    "collapsed": false,
    "execution": {
     "iopub.execute_input": "2023-02-02T13:56:54.379931Z",
     "iopub.status.busy": "2023-02-02T13:56:54.378980Z",
     "iopub.status.idle": "2023-02-02T13:56:56.118417Z",
     "shell.execute_reply": "2023-02-02T13:56:56.117069Z"
    },
    "jupyter": {
     "outputs_hidden": false
    },
    "papermill": {
     "duration": 1.76447,
     "end_time": "2023-02-02T13:56:56.121893",
     "exception": false,
     "start_time": "2023-02-02T13:56:54.357423",
     "status": "completed"
    },
    "tags": []
   },
   "outputs": [
    {
     "data": {
      "image/png": "[encoded data removed]",
      "text/plain": [
       "<Figure size 1440x1440 with 8 Axes>"
      ]
     },
     "metadata": {
      "needs_background": "light"
     },
     "output_type": "display_data"
    }
   ],
   "source": [
    "# Plotting the count of each category for each feature using Seaborn\n",
    "\n",
    "# Set the figure size\n",
    "plt.figure(figsize=(20, 20))\n",
    "\n",
    "# Plot the count of each category for each feature\n",
    "for i, col in enumerate(df_cat.columns):\n",
    "    plt.subplot(3, 3, i+1)\n",
    "    sns.countplot(x=col, data=df_cat)\n",
    "    plt.xlabel(col)\n",
    "    plt.ylabel('Count')"
   ]
  },
  {
   "cell_type": "markdown",
   "id": "6c8c67d4",
   "metadata": {
    "papermill": {
     "duration": 0.019723,
     "end_time": "2023-02-02T13:56:56.161927",
     "exception": false,
     "start_time": "2023-02-02T13:56:56.142204",
     "status": "completed"
    },
    "tags": []
   },
   "source": [
    "### Finding relationships between categorical variables using Chi-Square Test of Independence"
   ]
  },
  {
   "cell_type": "markdown",
   "id": "dd64710c",
   "metadata": {
    "papermill": {
     "duration": 0.019449,
     "end_time": "2023-02-02T13:56:56.201448",
     "exception": false,
     "start_time": "2023-02-02T13:56:56.181999",
     "status": "completed"
    },
    "tags": []
   },
   "source": [
    "Finding relationships between 2 categorical variables : Chi-Square Test of Independence\n",
    "1. Null hypothesis: There is no relationship between the two variables\n",
    "2. Alternative hypothesis: There is a relationship between the two variables\n",
    "3. If the p-value is less than 0.05, we reject the null hypothesis and conclude that there is a relationship between the two variables"
   ]
  },
  {
   "cell_type": "code",
   "execution_count": 13,
   "id": "e2eb5d70",
   "metadata": {
    "collapsed": false,
    "execution": {
     "iopub.execute_input": "2023-02-02T13:56:56.243503Z",
     "iopub.status.busy": "2023-02-02T13:56:56.242293Z",
     "iopub.status.idle": "2023-02-02T13:56:56.662918Z",
     "shell.execute_reply": "2023-02-02T13:56:56.661555Z"
    },
    "jupyter": {
     "outputs_hidden": false
    },
    "papermill": {
     "duration": 0.445136,
     "end_time": "2023-02-02T13:56:56.666256",
     "exception": false,
     "start_time": "2023-02-02T13:56:56.221120",
     "status": "completed"
    },
    "tags": []
   },
   "outputs": [],
   "source": [
    "# Chi-Square Test of Independence for each pair of categorical variables in a new dataframe\n",
    "from scipy.stats import chi2_contingency\n",
    "chi2_table = pd.DataFrame(columns=['Variable 1', 'Variable 2', 'Chi-Square', 'p-value'])\n",
    "for i, col1 in enumerate(df_cat.columns):\n",
    "    for j, col2 in enumerate(df_cat.columns):\n",
    "        if i < j:\n",
    "            chi2, p, dof, ex = chi2_contingency(pd.crosstab(df_cat[col1], df_cat[col2]))\n",
    "            chi2_table = chi2_table.append({'Variable 1': col1, 'Variable 2': col2, 'Chi-Square': chi2, 'p-value': p}, ignore_index=True)"
   ]
  },
  {
   "cell_type": "code",
   "execution_count": 14,
   "id": "b270cf72",
   "metadata": {
    "collapsed": false,
    "execution": {
     "iopub.execute_input": "2023-02-02T13:56:56.709319Z",
     "iopub.status.busy": "2023-02-02T13:56:56.708782Z",
     "iopub.status.idle": "2023-02-02T13:56:56.727458Z",
     "shell.execute_reply": "2023-02-02T13:56:56.726093Z"
    },
    "jupyter": {
     "outputs_hidden": false
    },
    "papermill": {
     "duration": 0.043375,
     "end_time": "2023-02-02T13:56:56.730189",
     "exception": false,
     "start_time": "2023-02-02T13:56:56.686814",
     "status": "completed"
    },
    "tags": []
   },
   "outputs": [
    {
     "data": {
      "text/html": [
       "<div>\n",
       "<style scoped>\n",
       "    .dataframe tbody tr th:only-of-type {\n",
       "        vertical-align: middle;\n",
       "    }\n",
       "\n",
       "    .dataframe tbody tr th {\n",
       "        vertical-align: top;\n",
       "    }\n",
       "\n",
       "    .dataframe thead th {\n",
       "        text-align: right;\n",
       "    }\n",
       "</style>\n",
       "<table border=\"1\" class=\"dataframe\">\n",
       "  <thead>\n",
       "    <tr style=\"text-align: right;\">\n",
       "      <th></th>\n",
       "      <th>Variable 1</th>\n",
       "      <th>Variable 2</th>\n",
       "      <th>Chi-Square</th>\n",
       "      <th>p-value</th>\n",
       "    </tr>\n",
       "  </thead>\n",
       "  <tbody>\n",
       "    <tr>\n",
       "      <th>10</th>\n",
       "      <td>year</td>\n",
       "      <td>stud_h</td>\n",
       "      <td>608.992141</td>\n",
       "      <td>3.320205e-23</td>\n",
       "    </tr>\n",
       "    <tr>\n",
       "      <th>9</th>\n",
       "      <td>year</td>\n",
       "      <td>job</td>\n",
       "      <td>72.560233</td>\n",
       "      <td>3.002212e-14</td>\n",
       "    </tr>\n",
       "    <tr>\n",
       "      <th>6</th>\n",
       "      <td>sex</td>\n",
       "      <td>psyt</td>\n",
       "      <td>23.484975</td>\n",
       "      <td>7.948815e-06</td>\n",
       "    </tr>\n",
       "    <tr>\n",
       "      <th>27</th>\n",
       "      <td>health</td>\n",
       "      <td>psyt</td>\n",
       "      <td>27.583952</td>\n",
       "      <td>1.514423e-05</td>\n",
       "    </tr>\n",
       "    <tr>\n",
       "      <th>8</th>\n",
       "      <td>year</td>\n",
       "      <td>part</td>\n",
       "      <td>27.375938</td>\n",
       "      <td>4.818767e-05</td>\n",
       "    </tr>\n",
       "    <tr>\n",
       "      <th>5</th>\n",
       "      <td>sex</td>\n",
       "      <td>health</td>\n",
       "      <td>21.975553</td>\n",
       "      <td>4.961357e-03</td>\n",
       "    </tr>\n",
       "    <tr>\n",
       "      <th>25</th>\n",
       "      <td>stud_h</td>\n",
       "      <td>health</td>\n",
       "      <td>293.764489</td>\n",
       "      <td>1.013227e-02</td>\n",
       "    </tr>\n",
       "    <tr>\n",
       "      <th>1</th>\n",
       "      <td>sex</td>\n",
       "      <td>glang</td>\n",
       "      <td>54.444023</td>\n",
       "      <td>2.496473e-02</td>\n",
       "    </tr>\n",
       "    <tr>\n",
       "      <th>22</th>\n",
       "      <td>job</td>\n",
       "      <td>stud_h</td>\n",
       "      <td>81.825491</td>\n",
       "      <td>3.207564e-02</td>\n",
       "    </tr>\n",
       "    <tr>\n",
       "      <th>2</th>\n",
       "      <td>sex</td>\n",
       "      <td>part</td>\n",
       "      <td>6.787509</td>\n",
       "      <td>3.358236e-02</td>\n",
       "    </tr>\n",
       "  </tbody>\n",
       "</table>\n",
       "</div>"
      ],
      "text/plain": [
       "   Variable 1 Variable 2  Chi-Square       p-value\n",
       "10       year     stud_h  608.992141  3.320205e-23\n",
       "9        year        job   72.560233  3.002212e-14\n",
       "6         sex       psyt   23.484975  7.948815e-06\n",
       "27     health       psyt   27.583952  1.514423e-05\n",
       "8        year       part   27.375938  4.818767e-05\n",
       "5         sex     health   21.975553  4.961357e-03\n",
       "25     stud_h     health  293.764489  1.013227e-02\n",
       "1         sex      glang   54.444023  2.496473e-02\n",
       "22        job     stud_h   81.825491  3.207564e-02\n",
       "2         sex       part    6.787509  3.358236e-02"
      ]
     },
     "execution_count": 14,
     "metadata": {},
     "output_type": "execute_result"
    }
   ],
   "source": [
    "# Keep only the pairs of variables that are related (p-value < 0.05) and sort them by p-value in ascending order (the smaller the p-value, the stronger the relationship)\n",
    "chi2_table = chi2_table[chi2_table['p-value'] < 0.05].sort_values(by='p-value')\n",
    "chi2_table"
   ]
  },
  {
   "cell_type": "markdown",
   "id": "cf4005c2",
   "metadata": {
    "papermill": {
     "duration": 0.020366,
     "end_time": "2023-02-02T13:56:56.771551",
     "exception": false,
     "start_time": "2023-02-02T13:56:56.751185",
     "status": "completed"
    },
    "tags": []
   },
   "source": [
    "The variables with low p-values (typically less than 0.05) indicate that there is a significant relationship between the two variables, while those with high p-values suggest that the relationship is not significant.\n",
    "\n",
    "In our, the variables with low p-values are:\n",
    "\n",
    "* stud_h / job / part and year (p-value is less than 0.001)\n",
    "* psyt and sex/health (p-value is less than 0.001)\n",
    "* health and sex (p-value = 0.004961)\n",
    "* health and stud_h (p-value = 0.010132)\n",
    "* glang and sex (p-value = 0.024965)\n",
    "* stud_h and job (p-value = 0.032076)\n",
    "* part and sex (p-value = 0.033582)"
   ]
  },
  {
   "cell_type": "markdown",
   "id": "68839968",
   "metadata": {
    "papermill": {
     "duration": 0.019974,
     "end_time": "2023-02-02T13:56:56.812844",
     "exception": false,
     "start_time": "2023-02-02T13:56:56.792870",
     "status": "completed"
    },
    "tags": []
   },
   "source": [
    "We can conclude that there, for variables related to health and wellbeing :\n",
    "* Sex and health are both related a to a psychotherapy in the last year.\n",
    "* Sex and health are related.\n",
    "* How long students study is related to their health."
   ]
  },
  {
   "cell_type": "markdown",
   "id": "8172a92a",
   "metadata": {
    "papermill": {
     "duration": 0.019489,
     "end_time": "2023-02-02T13:56:56.852349",
     "exception": false,
     "start_time": "2023-02-02T13:56:56.832860",
     "status": "completed"
    },
    "tags": []
   },
   "source": [
    "### Cross-Tabulation Tables and Stacked Bar Plots"
   ]
  },
  {
   "cell_type": "code",
   "execution_count": 15,
   "id": "fbaada27",
   "metadata": {
    "collapsed": false,
    "execution": {
     "iopub.execute_input": "2023-02-02T13:56:56.893530Z",
     "iopub.status.busy": "2023-02-02T13:56:56.893028Z",
     "iopub.status.idle": "2023-02-02T13:56:57.083489Z",
     "shell.execute_reply": "2023-02-02T13:56:57.082178Z"
    },
    "jupyter": {
     "outputs_hidden": false
    },
    "papermill": {
     "duration": 0.215908,
     "end_time": "2023-02-02T13:56:57.087752",
     "exception": false,
     "start_time": "2023-02-02T13:56:56.871844",
     "status": "completed"
    },
    "tags": []
   },
   "outputs": [
    {
     "name": "stdout",
     "output_type": "stream",
     "text": [
      "year and stud_h\n",
      "stud_h        0         1         2         3         4         5         6   \\\n",
      "year                                                                           \n",
      "1       0.001129  0.000000  0.000000  0.000000  0.001129  0.001129  0.006772   \n",
      "2       0.000000  0.000000  0.000000  0.000000  0.001129  0.000000  0.001129   \n",
      "3       0.002257  0.000000  0.002257  0.001129  0.000000  0.004515  0.001129   \n",
      "4       0.001129  0.001129  0.001129  0.002257  0.004515  0.005643  0.003386   \n",
      "5       0.002257  0.000000  0.003386  0.001129  0.001129  0.005643  0.001129   \n",
      "6       0.007901  0.009029  0.013544  0.007901  0.010158  0.005643  0.007901   \n",
      "\n",
      "stud_h        7         8         9   ...        53        55        56  \\\n",
      "year                                  ...                                 \n",
      "1       0.009029  0.006772  0.004515  ...  0.001129  0.005643  0.005643   \n",
      "2       0.002257  0.001129  0.000000  ...  0.001129  0.002257  0.001129   \n",
      "3       0.003386  0.004515  0.000000  ...  0.000000  0.000000  0.000000   \n",
      "4       0.006772  0.004515  0.002257  ...  0.000000  0.000000  0.000000   \n",
      "5       0.001129  0.006772  0.001129  ...  0.000000  0.000000  0.000000   \n",
      "6       0.001129  0.007901  0.002257  ...  0.000000  0.000000  0.000000   \n",
      "\n",
      "stud_h        58        59        60        63        65        69        70  \n",
      "year                                                                          \n",
      "1       0.001129  0.001129  0.010158  0.002257  0.003386  0.001129  0.005643  \n",
      "2       0.000000  0.000000  0.004515  0.000000  0.001129  0.000000  0.001129  \n",
      "3       0.000000  0.000000  0.001129  0.000000  0.000000  0.000000  0.000000  \n",
      "4       0.000000  0.000000  0.000000  0.000000  0.001129  0.000000  0.000000  \n",
      "5       0.000000  0.000000  0.002257  0.000000  0.000000  0.000000  0.000000  \n",
      "6       0.000000  0.000000  0.000000  0.000000  0.000000  0.000000  0.000000  \n",
      "\n",
      "[6 rows x 61 columns]\n",
      "-----------------\n",
      "year and job\n",
      "job          0         1\n",
      "year                    \n",
      "1     0.223476  0.053047\n",
      "2     0.118510  0.033860\n",
      "3     0.092551  0.068849\n",
      "4     0.064334  0.074492\n",
      "5     0.071106  0.072235\n",
      "6     0.081264  0.046275\n",
      "-----------------\n",
      "sex and psyt\n",
      "psyt         0         1\n",
      "sex                     \n",
      "1     0.272009  0.038375\n",
      "2     0.498871  0.185102\n",
      "3     0.004515  0.001129\n",
      "-----------------\n",
      "health and psyt\n",
      "psyt           0         1\n",
      "health                    \n",
      "1       0.033860  0.007901\n",
      "2       0.060948  0.037246\n",
      "3       0.106095  0.047404\n",
      "4       0.356659  0.097065\n",
      "5       0.217833  0.034989\n",
      "-----------------\n",
      "year and part\n",
      "part         0         1\n",
      "year                    \n",
      "1     0.151242  0.125282\n",
      "2     0.069977  0.082393\n",
      "3     0.064334  0.097065\n",
      "4     0.049661  0.089165\n",
      "5     0.065463  0.077878\n",
      "6     0.036117  0.091422\n",
      "-----------------\n",
      "sex and health\n",
      "health         1         2         3         4         5\n",
      "sex                                                     \n",
      "1       0.014673  0.025959  0.034989  0.132054  0.102709\n",
      "2       0.025959  0.072235  0.116253  0.320542  0.148984\n",
      "3       0.001129  0.000000  0.002257  0.001129  0.001129\n",
      "-----------------\n",
      "stud_h and health\n",
      "health         1         2         3         4         5\n",
      "stud_h                                                  \n",
      "0       0.002257  0.003386  0.001129  0.004515  0.003386\n",
      "1       0.000000  0.001129  0.000000  0.003386  0.005643\n",
      "2       0.000000  0.005643  0.001129  0.009029  0.004515\n",
      "3       0.000000  0.000000  0.000000  0.009029  0.003386\n",
      "4       0.002257  0.001129  0.001129  0.005643  0.007901\n",
      "...          ...       ...       ...       ...       ...\n",
      "60      0.001129  0.002257  0.006772  0.002257  0.005643\n",
      "63      0.000000  0.000000  0.001129  0.000000  0.001129\n",
      "65      0.000000  0.001129  0.000000  0.002257  0.002257\n",
      "69      0.000000  0.000000  0.001129  0.000000  0.000000\n",
      "70      0.000000  0.002257  0.000000  0.001129  0.003386\n",
      "\n",
      "[61 rows x 5 columns]\n",
      "-----------------\n",
      "sex and glang\n",
      "glang       1         15        20        37        54        60        63   \\\n",
      "sex                                                                           \n",
      "1      0.251693  0.010158  0.007901  0.000000  0.000000  0.000000  0.002257   \n",
      "2      0.554176  0.024831  0.016930  0.003386  0.001129  0.003386  0.002257   \n",
      "3      0.003386  0.000000  0.000000  0.000000  0.000000  0.000000  0.001129   \n",
      "\n",
      "glang       90        92        95        98        102       104       106  \\\n",
      "sex                                                                           \n",
      "1      0.022573  0.001129  0.000000  0.000000  0.005643  0.001129  0.001129   \n",
      "2      0.027088  0.000000  0.001129  0.001129  0.024831  0.003386  0.005643   \n",
      "3      0.001129  0.000000  0.000000  0.000000  0.000000  0.000000  0.000000   \n",
      "\n",
      "glang       108       114       118       120       121  \n",
      "sex                                                      \n",
      "1      0.001129  0.000000  0.000000  0.001129  0.004515  \n",
      "2      0.000000  0.001129  0.002257  0.001129  0.010158  \n",
      "3      0.000000  0.000000  0.000000  0.000000  0.000000  \n",
      "-----------------\n",
      "job and stud_h\n",
      "stud_h        0         1         2         3         4         5         6   \\\n",
      "job                                                                            \n",
      "0       0.010158  0.004515  0.010158  0.007901  0.010158  0.009029  0.012415   \n",
      "1       0.004515  0.005643  0.010158  0.004515  0.007901  0.013544  0.009029   \n",
      "\n",
      "stud_h        7         8         9   ...        53        55        56  \\\n",
      "job                                   ...                                 \n",
      "0       0.014673  0.014673  0.006772  ...  0.001129  0.007901  0.006772   \n",
      "1       0.009029  0.016930  0.003386  ...  0.001129  0.000000  0.000000   \n",
      "\n",
      "stud_h        58        59        60        63        65        69        70  \n",
      "job                                                                           \n",
      "0       0.001129  0.001129  0.015801  0.002257  0.004515  0.001129  0.004515  \n",
      "1       0.000000  0.000000  0.002257  0.000000  0.001129  0.000000  0.002257  \n",
      "\n",
      "[2 rows x 61 columns]\n",
      "-----------------\n",
      "sex and part\n",
      "part         0         1\n",
      "sex                     \n",
      "1     0.138826  0.171558\n",
      "2     0.292325  0.391648\n",
      "3     0.005643  0.000000\n",
      "-----------------\n"
     ]
    }
   ],
   "source": [
    "# Percentage of each category for each pair of variables in chi2_table?\n",
    "for i, row in chi2_table.iterrows():\n",
    "    var1 = row['Variable 1']\n",
    "    var2 = row['Variable 2']\n",
    "    print(var1 + \" and \" + var2)\n",
    "    print(pd.crosstab(index=df[var1], columns=df[var2], normalize=True))\n",
    "    print('-----------------')"
   ]
  },
  {
   "cell_type": "code",
   "execution_count": 16,
   "id": "33cf1640",
   "metadata": {
    "collapsed": false,
    "execution": {
     "iopub.execute_input": "2023-02-02T13:56:57.133030Z",
     "iopub.status.busy": "2023-02-02T13:56:57.132576Z",
     "iopub.status.idle": "2023-02-02T13:56:57.392913Z",
     "shell.execute_reply": "2023-02-02T13:56:57.391350Z"
    },
    "jupyter": {
     "outputs_hidden": false
    },
    "papermill": {
     "duration": 0.286888,
     "end_time": "2023-02-02T13:56:57.395902",
     "exception": false,
     "start_time": "2023-02-02T13:56:57.109014",
     "status": "completed"
    },
    "tags": []
   },
   "outputs": [
    {
     "data": {
      "image/png": "[encoded data removed]",
      "text/plain": [
       "<Figure size 432x288 with 1 Axes>"
      ]
     },
     "metadata": {
      "needs_background": "light"
     },
     "output_type": "display_data"
    }
   ],
   "source": [
    "# Plotting relationships between psyt and sex\n",
    "var1 = \"psyt\"\n",
    "var2 = \"sex\"\n",
    "\n",
    "# Create a cross-tabulation table\n",
    "ctab = pd.crosstab(df[var1], df[var2])\n",
    "\n",
    "# Plot the cross-tabulation table\n",
    "ctab.plot(kind='bar', stacked=True)\n",
    "plt.title(\"Relationship between \" + var1 + \" and \" + var2)\n",
    "plt.xlabel(var1)\n",
    "plt.ylabel(var2)\n",
    "plt.show()"
   ]
  },
  {
   "cell_type": "markdown",
   "id": "8fd40fec",
   "metadata": {
    "papermill": {
     "duration": 0.020425,
     "end_time": "2023-02-02T13:56:57.437521",
     "exception": false,
     "start_time": "2023-02-02T13:56:57.417096",
     "status": "completed"
    },
    "tags": []
   },
   "source": [
    "Let's see what sex visited the most a psychotherapist in the last year."
   ]
  },
  {
   "cell_type": "code",
   "execution_count": 17,
   "id": "26f53106",
   "metadata": {
    "collapsed": false,
    "execution": {
     "iopub.execute_input": "2023-02-02T13:56:57.481841Z",
     "iopub.status.busy": "2023-02-02T13:56:57.480642Z",
     "iopub.status.idle": "2023-02-02T13:56:57.495931Z",
     "shell.execute_reply": "2023-02-02T13:56:57.494749Z"
    },
    "jupyter": {
     "outputs_hidden": false
    },
    "papermill": {
     "duration": 0.040568,
     "end_time": "2023-02-02T13:56:57.498905",
     "exception": false,
     "start_time": "2023-02-02T13:56:57.458337",
     "status": "completed"
    },
    "tags": []
   },
   "outputs": [],
   "source": [
    "# Create the new data frame\n",
    "df_psyt = pd.DataFrame(data={'psyt': df_cat['psyt'], 'sex': df_cat['sex']})\n",
    "\n",
    "# Group the data by psychotherapy and sex\n",
    "df_psyt = df_psyt.groupby(['psyt', 'sex']).size().reset_index(name='count')\n",
    "\n",
    "# Calculate the percentage of male, female, and non binary in each health category\n",
    "total = df_psyt['count'].sum()\n",
    "df_psyt['percentage'] = df_psyt['count'] / total * 100\n",
    "df_psyt['sex'] = df_psyt['sex'].map({1: 'Male', 2: 'Female', 3: 'Non Binary'})"
   ]
  },
  {
   "cell_type": "code",
   "execution_count": 18,
   "id": "17023710",
   "metadata": {
    "collapsed": false,
    "execution": {
     "iopub.execute_input": "2023-02-02T13:56:57.545182Z",
     "iopub.status.busy": "2023-02-02T13:56:57.544300Z",
     "iopub.status.idle": "2023-02-02T13:56:57.558541Z",
     "shell.execute_reply": "2023-02-02T13:56:57.557203Z"
    },
    "jupyter": {
     "outputs_hidden": false
    },
    "papermill": {
     "duration": 0.041289,
     "end_time": "2023-02-02T13:56:57.561152",
     "exception": false,
     "start_time": "2023-02-02T13:56:57.519863",
     "status": "completed"
    },
    "tags": []
   },
   "outputs": [
    {
     "data": {
      "text/html": [
       "<div>\n",
       "<style scoped>\n",
       "    .dataframe tbody tr th:only-of-type {\n",
       "        vertical-align: middle;\n",
       "    }\n",
       "\n",
       "    .dataframe tbody tr th {\n",
       "        vertical-align: top;\n",
       "    }\n",
       "\n",
       "    .dataframe thead th {\n",
       "        text-align: right;\n",
       "    }\n",
       "</style>\n",
       "<table border=\"1\" class=\"dataframe\">\n",
       "  <thead>\n",
       "    <tr style=\"text-align: right;\">\n",
       "      <th></th>\n",
       "      <th>psyt</th>\n",
       "      <th>sex</th>\n",
       "      <th>count</th>\n",
       "      <th>percentage</th>\n",
       "    </tr>\n",
       "  </thead>\n",
       "  <tbody>\n",
       "    <tr>\n",
       "      <th>0</th>\n",
       "      <td>0</td>\n",
       "      <td>Male</td>\n",
       "      <td>241</td>\n",
       "      <td>27.200903</td>\n",
       "    </tr>\n",
       "    <tr>\n",
       "      <th>1</th>\n",
       "      <td>0</td>\n",
       "      <td>Female</td>\n",
       "      <td>442</td>\n",
       "      <td>49.887133</td>\n",
       "    </tr>\n",
       "    <tr>\n",
       "      <th>2</th>\n",
       "      <td>0</td>\n",
       "      <td>Non Binary</td>\n",
       "      <td>4</td>\n",
       "      <td>0.451467</td>\n",
       "    </tr>\n",
       "    <tr>\n",
       "      <th>3</th>\n",
       "      <td>1</td>\n",
       "      <td>Male</td>\n",
       "      <td>34</td>\n",
       "      <td>3.837472</td>\n",
       "    </tr>\n",
       "    <tr>\n",
       "      <th>4</th>\n",
       "      <td>1</td>\n",
       "      <td>Female</td>\n",
       "      <td>164</td>\n",
       "      <td>18.510158</td>\n",
       "    </tr>\n",
       "    <tr>\n",
       "      <th>5</th>\n",
       "      <td>1</td>\n",
       "      <td>Non Binary</td>\n",
       "      <td>1</td>\n",
       "      <td>0.112867</td>\n",
       "    </tr>\n",
       "  </tbody>\n",
       "</table>\n",
       "</div>"
      ],
      "text/plain": [
       "   psyt         sex  count  percentage\n",
       "0     0        Male    241   27.200903\n",
       "1     0      Female    442   49.887133\n",
       "2     0  Non Binary      4    0.451467\n",
       "3     1        Male     34    3.837472\n",
       "4     1      Female    164   18.510158\n",
       "5     1  Non Binary      1    0.112867"
      ]
     },
     "execution_count": 18,
     "metadata": {},
     "output_type": "execute_result"
    }
   ],
   "source": [
    "df_psyt"
   ]
  },
  {
   "cell_type": "markdown",
   "id": "95d565a8",
   "metadata": {
    "papermill": {
     "duration": 0.02287,
     "end_time": "2023-02-02T13:56:57.605966",
     "exception": false,
     "start_time": "2023-02-02T13:56:57.583096",
     "status": "completed"
    },
    "tags": []
   },
   "source": [
    "We can see that females tend to visit psychoterapists more than males and non binary people."
   ]
  },
  {
   "cell_type": "markdown",
   "id": "d4182093",
   "metadata": {
    "papermill": {
     "duration": 0.021513,
     "end_time": "2023-02-02T13:56:57.650031",
     "exception": false,
     "start_time": "2023-02-02T13:56:57.628518",
     "status": "completed"
    },
    "tags": []
   },
   "source": [
    "We print the percentage for every pair of variables in chi2_table"
   ]
  },
  {
   "cell_type": "code",
   "execution_count": 19,
   "id": "f15bfa8d",
   "metadata": {
    "collapsed": false,
    "execution": {
     "iopub.execute_input": "2023-02-02T13:56:57.695856Z",
     "iopub.status.busy": "2023-02-02T13:56:57.695384Z",
     "iopub.status.idle": "2023-02-02T13:56:57.807699Z",
     "shell.execute_reply": "2023-02-02T13:56:57.806242Z"
    },
    "jupyter": {
     "outputs_hidden": false
    },
    "papermill": {
     "duration": 0.139108,
     "end_time": "2023-02-02T13:56:57.811341",
     "exception": false,
     "start_time": "2023-02-02T13:56:57.672233",
     "status": "completed"
    },
    "tags": []
   },
   "outputs": [
    {
     "name": "stdout",
     "output_type": "stream",
     "text": [
      "year and stud_h\n",
      "     year  stud_h  count  percentage\n",
      "0       1       0      1    0.112867\n",
      "1       1       4      1    0.112867\n",
      "2       1       5      1    0.112867\n",
      "3       1       6      6    0.677201\n",
      "4       1       7      8    0.902935\n",
      "..    ...     ...    ...         ...\n",
      "217     6      35      1    0.112867\n",
      "218     6      36      2    0.225734\n",
      "219     6      40      3    0.338600\n",
      "220     6      45      1    0.112867\n",
      "221     6      50      1    0.112867\n",
      "\n",
      "[222 rows x 4 columns]\n",
      "-----------------\n",
      "year and job\n",
      "    year  job  count  percentage\n",
      "0      1    0    198   22.347630\n",
      "1      1    1     47    5.304740\n",
      "2      2    0    105   11.851016\n",
      "3      2    1     30    3.386005\n",
      "4      3    0     82    9.255079\n",
      "5      3    1     61    6.884876\n",
      "6      4    0     57    6.433409\n",
      "7      4    1     66    7.449210\n",
      "8      5    0     63    7.110609\n",
      "9      5    1     64    7.223476\n",
      "10     6    0     72    8.126411\n",
      "11     6    1     41    4.627540\n",
      "-----------------\n",
      "sex and psyt\n",
      "   sex  psyt  count  percentage\n",
      "0    1     0    241   27.200903\n",
      "1    1     1     34    3.837472\n",
      "2    2     0    442   49.887133\n",
      "3    2     1    164   18.510158\n",
      "4    3     0      4    0.451467\n",
      "5    3     1      1    0.112867\n",
      "-----------------\n",
      "health and psyt\n",
      "   health  psyt  count  percentage\n",
      "0       1     0     30    3.386005\n",
      "1       1     1      7    0.790068\n",
      "2       2     0     54    6.094808\n",
      "3       2     1     33    3.724605\n",
      "4       3     0     94   10.609481\n",
      "5       3     1     42    4.740406\n",
      "6       4     0    316   35.665914\n",
      "7       4     1     86    9.706546\n",
      "8       5     0    193   21.783296\n",
      "9       5     1     31    3.498871\n",
      "-----------------\n",
      "year and part\n",
      "    year  part  count  percentage\n",
      "0      1     0    134   15.124153\n",
      "1      1     1    111   12.528217\n",
      "2      2     0     62    6.997743\n",
      "3      2     1     73    8.239278\n",
      "4      3     0     57    6.433409\n",
      "5      3     1     86    9.706546\n",
      "6      4     0     44    4.966140\n",
      "7      4     1     79    8.916479\n",
      "8      5     0     58    6.546275\n",
      "9      5     1     69    7.787810\n",
      "10     6     0     32    3.611738\n",
      "11     6     1     81    9.142212\n",
      "-----------------\n",
      "sex and health\n",
      "    sex  health  count  percentage\n",
      "0     1       1     13    1.467269\n",
      "1     1       2     23    2.595937\n",
      "2     1       3     31    3.498871\n",
      "3     1       4    117   13.205418\n",
      "4     1       5     91   10.270880\n",
      "5     2       1     23    2.595937\n",
      "6     2       2     64    7.223476\n",
      "7     2       3    103   11.625282\n",
      "8     2       4    284   32.054176\n",
      "9     2       5    132   14.898420\n",
      "10    3       1      1    0.112867\n",
      "11    3       3      2    0.225734\n",
      "12    3       4      1    0.112867\n",
      "13    3       5      1    0.112867\n",
      "-----------------\n",
      "stud_h and health\n",
      "     stud_h  health  count  percentage\n",
      "0         0       1      2    0.225734\n",
      "1         0       2      3    0.338600\n",
      "2         0       3      1    0.112867\n",
      "3         0       4      4    0.451467\n",
      "4         0       5      3    0.338600\n",
      "..      ...     ...    ...         ...\n",
      "188      65       5      2    0.225734\n",
      "189      69       3      1    0.112867\n",
      "190      70       2      2    0.225734\n",
      "191      70       4      1    0.112867\n",
      "192      70       5      3    0.338600\n",
      "\n",
      "[193 rows x 4 columns]\n",
      "-----------------\n",
      "sex and glang\n",
      "    sex  glang  count  percentage\n",
      "0     1      1    223   25.169300\n",
      "1     1     15      9    1.015801\n",
      "2     1     20      7    0.790068\n",
      "3     1     63      2    0.225734\n",
      "4     1     90     20    2.257336\n",
      "5     1     92      1    0.112867\n",
      "6     1    102      5    0.564334\n",
      "7     1    104      1    0.112867\n",
      "8     1    106      1    0.112867\n",
      "9     1    108      1    0.112867\n",
      "10    1    120      1    0.112867\n",
      "11    1    121      4    0.451467\n",
      "12    2      1    491   55.417607\n",
      "13    2     15     22    2.483070\n",
      "14    2     20     15    1.693002\n",
      "15    2     37      3    0.338600\n",
      "16    2     54      1    0.112867\n",
      "17    2     60      3    0.338600\n",
      "18    2     63      2    0.225734\n",
      "19    2     90     24    2.708804\n",
      "20    2     95      1    0.112867\n",
      "21    2     98      1    0.112867\n",
      "22    2    102     22    2.483070\n",
      "23    2    104      3    0.338600\n",
      "24    2    106      5    0.564334\n",
      "25    2    114      1    0.112867\n",
      "26    2    118      2    0.225734\n",
      "27    2    120      1    0.112867\n",
      "28    2    121      9    1.015801\n",
      "29    3      1      3    0.338600\n",
      "30    3     63      1    0.112867\n",
      "31    3     90      1    0.112867\n",
      "-----------------\n",
      "job and stud_h\n",
      "     job  stud_h  count  percentage\n",
      "0      0       0      9    1.015801\n",
      "1      0       1      4    0.451467\n",
      "2      0       2      9    1.015801\n",
      "3      0       3      7    0.790068\n",
      "4      0       4      9    1.015801\n",
      "..   ...     ...    ...         ...\n",
      "100    1      51      1    0.112867\n",
      "101    1      53      1    0.112867\n",
      "102    1      60      2    0.225734\n",
      "103    1      65      1    0.112867\n",
      "104    1      70      2    0.225734\n",
      "\n",
      "[105 rows x 4 columns]\n",
      "-----------------\n",
      "sex and part\n",
      "   sex  part  count  percentage\n",
      "0    1     0    123   13.882619\n",
      "1    1     1    152   17.155756\n",
      "2    2     0    259   29.232506\n",
      "3    2     1    347   39.164786\n",
      "4    3     0      5    0.564334\n",
      "-----------------\n"
     ]
    }
   ],
   "source": [
    "# Do it for every pair of variables in chi2_table\n",
    "for i, row in chi2_table.iterrows():\n",
    "    var1 = row['Variable 1']\n",
    "    var2 = row['Variable 2']\n",
    "    print(var1 + \" and \" + var2)\n",
    "    df_temp = pd.DataFrame(data={var1: df_cat[var1], var2: df_cat[var2]})\n",
    "    df_temp = df_temp.groupby([var1, var2]).size().reset_index(name='count')\n",
    "    total = df_temp['count'].sum()\n",
    "    df_temp['percentage'] = df_temp['count'] / total * 100\n",
    "    df_temp.append(df_temp.sum(numeric_only=True), ignore_index=True)\n",
    "    print(df_temp)\n",
    "    print('-----------------')"
   ]
  },
  {
   "cell_type": "markdown",
   "id": "51895273",
   "metadata": {
    "papermill": {
     "duration": 0.020698,
     "end_time": "2023-02-02T13:56:57.854182",
     "exception": false,
     "start_time": "2023-02-02T13:56:57.833484",
     "status": "completed"
    },
    "tags": []
   },
   "source": [
    "## Continuous data - Numerical variables"
   ]
  },
  {
   "cell_type": "markdown",
   "id": "bbaa3024",
   "metadata": {
    "papermill": {
     "duration": 0.020564,
     "end_time": "2023-02-02T13:56:57.896124",
     "exception": false,
     "start_time": "2023-02-02T13:56:57.875560",
     "status": "completed"
    },
    "tags": []
   },
   "source": [
    "### Descriptive Statistics"
   ]
  },
  {
   "cell_type": "code",
   "execution_count": 20,
   "id": "0f18c2e2",
   "metadata": {
    "collapsed": false,
    "execution": {
     "iopub.execute_input": "2023-02-02T13:56:57.942313Z",
     "iopub.status.busy": "2023-02-02T13:56:57.941440Z",
     "iopub.status.idle": "2023-02-02T13:56:57.957515Z",
     "shell.execute_reply": "2023-02-02T13:56:57.956595Z"
    },
    "jupyter": {
     "outputs_hidden": false
    },
    "papermill": {
     "duration": 0.042406,
     "end_time": "2023-02-02T13:56:57.959953",
     "exception": false,
     "start_time": "2023-02-02T13:56:57.917547",
     "status": "completed"
    },
    "tags": []
   },
   "outputs": [
    {
     "data": {
      "text/html": [
       "<div>\n",
       "<style scoped>\n",
       "    .dataframe tbody tr th:only-of-type {\n",
       "        vertical-align: middle;\n",
       "    }\n",
       "\n",
       "    .dataframe tbody tr th {\n",
       "        vertical-align: top;\n",
       "    }\n",
       "\n",
       "    .dataframe thead th {\n",
       "        text-align: right;\n",
       "    }\n",
       "</style>\n",
       "<table border=\"1\" class=\"dataframe\">\n",
       "  <thead>\n",
       "    <tr style=\"text-align: right;\">\n",
       "      <th></th>\n",
       "      <th>age</th>\n",
       "      <th>jspe</th>\n",
       "      <th>qcae_cog</th>\n",
       "      <th>qcae_aff</th>\n",
       "      <th>amsp</th>\n",
       "      <th>erec_mean</th>\n",
       "      <th>cesd</th>\n",
       "      <th>stai_t</th>\n",
       "      <th>mbi_ex</th>\n",
       "      <th>mbi_cy</th>\n",
       "      <th>mbi_ea</th>\n",
       "    </tr>\n",
       "  </thead>\n",
       "  <tbody>\n",
       "    <tr>\n",
       "      <th>0</th>\n",
       "      <td>18</td>\n",
       "      <td>88</td>\n",
       "      <td>62</td>\n",
       "      <td>27</td>\n",
       "      <td>17</td>\n",
       "      <td>0.738095</td>\n",
       "      <td>34</td>\n",
       "      <td>61</td>\n",
       "      <td>17</td>\n",
       "      <td>13</td>\n",
       "      <td>20</td>\n",
       "    </tr>\n",
       "    <tr>\n",
       "      <th>1</th>\n",
       "      <td>26</td>\n",
       "      <td>109</td>\n",
       "      <td>55</td>\n",
       "      <td>37</td>\n",
       "      <td>22</td>\n",
       "      <td>0.690476</td>\n",
       "      <td>7</td>\n",
       "      <td>33</td>\n",
       "      <td>14</td>\n",
       "      <td>11</td>\n",
       "      <td>26</td>\n",
       "    </tr>\n",
       "    <tr>\n",
       "      <th>2</th>\n",
       "      <td>21</td>\n",
       "      <td>106</td>\n",
       "      <td>64</td>\n",
       "      <td>39</td>\n",
       "      <td>17</td>\n",
       "      <td>0.690476</td>\n",
       "      <td>25</td>\n",
       "      <td>73</td>\n",
       "      <td>24</td>\n",
       "      <td>7</td>\n",
       "      <td>23</td>\n",
       "    </tr>\n",
       "    <tr>\n",
       "      <th>3</th>\n",
       "      <td>21</td>\n",
       "      <td>101</td>\n",
       "      <td>52</td>\n",
       "      <td>33</td>\n",
       "      <td>18</td>\n",
       "      <td>0.833333</td>\n",
       "      <td>17</td>\n",
       "      <td>48</td>\n",
       "      <td>16</td>\n",
       "      <td>10</td>\n",
       "      <td>21</td>\n",
       "    </tr>\n",
       "    <tr>\n",
       "      <th>4</th>\n",
       "      <td>21</td>\n",
       "      <td>102</td>\n",
       "      <td>58</td>\n",
       "      <td>28</td>\n",
       "      <td>21</td>\n",
       "      <td>0.690476</td>\n",
       "      <td>14</td>\n",
       "      <td>46</td>\n",
       "      <td>22</td>\n",
       "      <td>14</td>\n",
       "      <td>23</td>\n",
       "    </tr>\n",
       "    <tr>\n",
       "      <th>5</th>\n",
       "      <td>26</td>\n",
       "      <td>102</td>\n",
       "      <td>48</td>\n",
       "      <td>37</td>\n",
       "      <td>17</td>\n",
       "      <td>0.690476</td>\n",
       "      <td>14</td>\n",
       "      <td>56</td>\n",
       "      <td>18</td>\n",
       "      <td>15</td>\n",
       "      <td>18</td>\n",
       "    </tr>\n",
       "    <tr>\n",
       "      <th>6</th>\n",
       "      <td>23</td>\n",
       "      <td>117</td>\n",
       "      <td>58</td>\n",
       "      <td>38</td>\n",
       "      <td>23</td>\n",
       "      <td>0.714286</td>\n",
       "      <td>45</td>\n",
       "      <td>56</td>\n",
       "      <td>28</td>\n",
       "      <td>17</td>\n",
       "      <td>16</td>\n",
       "    </tr>\n",
       "    <tr>\n",
       "      <th>7</th>\n",
       "      <td>23</td>\n",
       "      <td>118</td>\n",
       "      <td>65</td>\n",
       "      <td>40</td>\n",
       "      <td>32</td>\n",
       "      <td>0.880952</td>\n",
       "      <td>6</td>\n",
       "      <td>36</td>\n",
       "      <td>11</td>\n",
       "      <td>10</td>\n",
       "      <td>27</td>\n",
       "    </tr>\n",
       "    <tr>\n",
       "      <th>8</th>\n",
       "      <td>23</td>\n",
       "      <td>118</td>\n",
       "      <td>69</td>\n",
       "      <td>46</td>\n",
       "      <td>23</td>\n",
       "      <td>0.666667</td>\n",
       "      <td>43</td>\n",
       "      <td>43</td>\n",
       "      <td>26</td>\n",
       "      <td>21</td>\n",
       "      <td>22</td>\n",
       "    </tr>\n",
       "    <tr>\n",
       "      <th>9</th>\n",
       "      <td>22</td>\n",
       "      <td>108</td>\n",
       "      <td>56</td>\n",
       "      <td>36</td>\n",
       "      <td>22</td>\n",
       "      <td>0.690476</td>\n",
       "      <td>11</td>\n",
       "      <td>43</td>\n",
       "      <td>18</td>\n",
       "      <td>6</td>\n",
       "      <td>23</td>\n",
       "    </tr>\n",
       "  </tbody>\n",
       "</table>\n",
       "</div>"
      ],
      "text/plain": [
       "   age  jspe  qcae_cog  qcae_aff  amsp  erec_mean  cesd  stai_t  mbi_ex  \\\n",
       "0   18    88        62        27    17   0.738095    34      61      17   \n",
       "1   26   109        55        37    22   0.690476     7      33      14   \n",
       "2   21   106        64        39    17   0.690476    25      73      24   \n",
       "3   21   101        52        33    18   0.833333    17      48      16   \n",
       "4   21   102        58        28    21   0.690476    14      46      22   \n",
       "5   26   102        48        37    17   0.690476    14      56      18   \n",
       "6   23   117        58        38    23   0.714286    45      56      28   \n",
       "7   23   118        65        40    32   0.880952     6      36      11   \n",
       "8   23   118        69        46    23   0.666667    43      43      26   \n",
       "9   22   108        56        36    22   0.690476    11      43      18   \n",
       "\n",
       "   mbi_cy  mbi_ea  \n",
       "0      13      20  \n",
       "1      11      26  \n",
       "2       7      23  \n",
       "3      10      21  \n",
       "4      14      23  \n",
       "5      15      18  \n",
       "6      17      16  \n",
       "7      10      27  \n",
       "8      21      22  \n",
       "9       6      23  "
      ]
     },
     "execution_count": 20,
     "metadata": {},
     "output_type": "execute_result"
    }
   ],
   "source": [
    "df_num.head(10)"
   ]
  },
  {
   "cell_type": "markdown",
   "id": "41097337",
   "metadata": {
    "papermill": {
     "duration": 0.021224,
     "end_time": "2023-02-02T13:56:58.002911",
     "exception": false,
     "start_time": "2023-02-02T13:56:57.981687",
     "status": "completed"
    },
    "tags": []
   },
   "source": [
    "Distribution of numerical variables"
   ]
  },
  {
   "cell_type": "code",
   "execution_count": 21,
   "id": "2ee24f64",
   "metadata": {
    "collapsed": false,
    "execution": {
     "iopub.execute_input": "2023-02-02T13:56:58.048544Z",
     "iopub.status.busy": "2023-02-02T13:56:58.047649Z",
     "iopub.status.idle": "2023-02-02T13:57:00.463456Z",
     "shell.execute_reply": "2023-02-02T13:57:00.462369Z"
    },
    "jupyter": {
     "outputs_hidden": false
    },
    "papermill": {
     "duration": 2.442955,
     "end_time": "2023-02-02T13:57:00.467352",
     "exception": false,
     "start_time": "2023-02-02T13:56:58.024397",
     "status": "completed"
    },
    "tags": []
   },
   "outputs": [
    {
     "name": "stderr",
     "output_type": "stream",
     "text": [
      "/opt/conda/lib/python3.7/site-packages/seaborn/distributions.py:2619: FutureWarning: `distplot` is a deprecated function and will be removed in a future version. Please adapt your code to use either `displot` (a figure-level function with similar flexibility) or `histplot` (an axes-level function for histograms).\n",
      "  warnings.warn(msg, FutureWarning)\n",
      "/opt/conda/lib/python3.7/site-packages/seaborn/distributions.py:2619: FutureWarning: `distplot` is a deprecated function and will be removed in a future version. Please adapt your code to use either `displot` (a figure-level function with similar flexibility) or `histplot` (an axes-level function for histograms).\n",
      "  warnings.warn(msg, FutureWarning)\n",
      "/opt/conda/lib/python3.7/site-packages/seaborn/distributions.py:2619: FutureWarning: `distplot` is a deprecated function and will be removed in a future version. Please adapt your code to use either `displot` (a figure-level function with similar flexibility) or `histplot` (an axes-level function for histograms).\n",
      "  warnings.warn(msg, FutureWarning)\n",
      "/opt/conda/lib/python3.7/site-packages/seaborn/distributions.py:2619: FutureWarning: `distplot` is a deprecated function and will be removed in a future version. Please adapt your code to use either `displot` (a figure-level function with similar flexibility) or `histplot` (an axes-level function for histograms).\n",
      "  warnings.warn(msg, FutureWarning)\n",
      "/opt/conda/lib/python3.7/site-packages/seaborn/distributions.py:2619: FutureWarning: `distplot` is a deprecated function and will be removed in a future version. Please adapt your code to use either `displot` (a figure-level function with similar flexibility) or `histplot` (an axes-level function for histograms).\n",
      "  warnings.warn(msg, FutureWarning)\n",
      "/opt/conda/lib/python3.7/site-packages/seaborn/distributions.py:2619: FutureWarning: `distplot` is a deprecated function and will be removed in a future version. Please adapt your code to use either `displot` (a figure-level function with similar flexibility) or `histplot` (an axes-level function for histograms).\n",
      "  warnings.warn(msg, FutureWarning)\n",
      "/opt/conda/lib/python3.7/site-packages/seaborn/distributions.py:2619: FutureWarning: `distplot` is a deprecated function and will be removed in a future version. Please adapt your code to use either `displot` (a figure-level function with similar flexibility) or `histplot` (an axes-level function for histograms).\n",
      "  warnings.warn(msg, FutureWarning)\n",
      "/opt/conda/lib/python3.7/site-packages/seaborn/distributions.py:2619: FutureWarning: `distplot` is a deprecated function and will be removed in a future version. Please adapt your code to use either `displot` (a figure-level function with similar flexibility) or `histplot` (an axes-level function for histograms).\n",
      "  warnings.warn(msg, FutureWarning)\n",
      "/opt/conda/lib/python3.7/site-packages/seaborn/distributions.py:2619: FutureWarning: `distplot` is a deprecated function and will be removed in a future version. Please adapt your code to use either `displot` (a figure-level function with similar flexibility) or `histplot` (an axes-level function for histograms).\n",
      "  warnings.warn(msg, FutureWarning)\n",
      "/opt/conda/lib/python3.7/site-packages/seaborn/distributions.py:2619: FutureWarning: `distplot` is a deprecated function and will be removed in a future version. Please adapt your code to use either `displot` (a figure-level function with similar flexibility) or `histplot` (an axes-level function for histograms).\n",
      "  warnings.warn(msg, FutureWarning)\n",
      "/opt/conda/lib/python3.7/site-packages/seaborn/distributions.py:2619: FutureWarning: `distplot` is a deprecated function and will be removed in a future version. Please adapt your code to use either `displot` (a figure-level function with similar flexibility) or `histplot` (an axes-level function for histograms).\n",
      "  warnings.warn(msg, FutureWarning)\n"
     ]
    },
    {
     "data": {
      "image/png": "[encoded data removed]",
      "text/plain": [
       "<Figure size 1440x1440 with 11 Axes>"
      ]
     },
     "metadata": {
      "needs_background": "light"
     },
     "output_type": "display_data"
    }
   ],
   "source": [
    "# Plotting the distribution of each numerical variable using Seaborn\n",
    "# Set the figure size\n",
    "plt.figure(figsize=(20, 20))\n",
    "\n",
    "for i, col in enumerate(df_num.columns):\n",
    "    plt.subplot(4, 3, i+1)\n",
    "    sns.distplot(df_num[col])\n",
    "    plt.xlabel(col)\n",
    "    plt.ylabel('Density')\n",
    "\n",
    "plt.show()"
   ]
  },
  {
   "cell_type": "markdown",
   "id": "35db8cc4",
   "metadata": {
    "papermill": {
     "duration": 0.023914,
     "end_time": "2023-02-02T13:57:00.516372",
     "exception": false,
     "start_time": "2023-02-02T13:57:00.492458",
     "status": "completed"
    },
    "tags": []
   },
   "source": [
    "### Correlation matrix and heatmap"
   ]
  },
  {
   "cell_type": "code",
   "execution_count": 22,
   "id": "273c08cd",
   "metadata": {
    "collapsed": false,
    "execution": {
     "iopub.execute_input": "2023-02-02T13:57:00.571306Z",
     "iopub.status.busy": "2023-02-02T13:57:00.570125Z",
     "iopub.status.idle": "2023-02-02T13:57:00.593249Z",
     "shell.execute_reply": "2023-02-02T13:57:00.591578Z"
    },
    "jupyter": {
     "outputs_hidden": false
    },
    "papermill": {
     "duration": 0.054882,
     "end_time": "2023-02-02T13:57:00.595967",
     "exception": false,
     "start_time": "2023-02-02T13:57:00.541085",
     "status": "completed"
    },
    "tags": []
   },
   "outputs": [
    {
     "data": {
      "text/html": [
       "<div>\n",
       "<style scoped>\n",
       "    .dataframe tbody tr th:only-of-type {\n",
       "        vertical-align: middle;\n",
       "    }\n",
       "\n",
       "    .dataframe tbody tr th {\n",
       "        vertical-align: top;\n",
       "    }\n",
       "\n",
       "    .dataframe thead th {\n",
       "        text-align: right;\n",
       "    }\n",
       "</style>\n",
       "<table border=\"1\" class=\"dataframe\">\n",
       "  <thead>\n",
       "    <tr style=\"text-align: right;\">\n",
       "      <th></th>\n",
       "      <th>age</th>\n",
       "      <th>jspe</th>\n",
       "      <th>qcae_cog</th>\n",
       "      <th>qcae_aff</th>\n",
       "      <th>amsp</th>\n",
       "      <th>erec_mean</th>\n",
       "      <th>cesd</th>\n",
       "      <th>stai_t</th>\n",
       "      <th>mbi_ex</th>\n",
       "      <th>mbi_cy</th>\n",
       "      <th>mbi_ea</th>\n",
       "    </tr>\n",
       "  </thead>\n",
       "  <tbody>\n",
       "    <tr>\n",
       "      <th>age</th>\n",
       "      <td>1.000000</td>\n",
       "      <td>0.223221</td>\n",
       "      <td>0.059355</td>\n",
       "      <td>-0.008130</td>\n",
       "      <td>0.000477</td>\n",
       "      <td>-0.018699</td>\n",
       "      <td>-0.139106</td>\n",
       "      <td>-0.081893</td>\n",
       "      <td>-0.182733</td>\n",
       "      <td>-0.001853</td>\n",
       "      <td>0.046130</td>\n",
       "    </tr>\n",
       "    <tr>\n",
       "      <th>jspe</th>\n",
       "      <td>0.223221</td>\n",
       "      <td>1.000000</td>\n",
       "      <td>0.342668</td>\n",
       "      <td>0.263384</td>\n",
       "      <td>0.099395</td>\n",
       "      <td>0.097062</td>\n",
       "      <td>-0.080058</td>\n",
       "      <td>-0.075036</td>\n",
       "      <td>-0.040542</td>\n",
       "      <td>-0.006981</td>\n",
       "      <td>0.082508</td>\n",
       "    </tr>\n",
       "    <tr>\n",
       "      <th>qcae_cog</th>\n",
       "      <td>0.059355</td>\n",
       "      <td>0.342668</td>\n",
       "      <td>1.000000</td>\n",
       "      <td>0.258696</td>\n",
       "      <td>0.386682</td>\n",
       "      <td>0.073708</td>\n",
       "      <td>-0.034244</td>\n",
       "      <td>-0.077868</td>\n",
       "      <td>-0.023630</td>\n",
       "      <td>-0.024820</td>\n",
       "      <td>0.184096</td>\n",
       "    </tr>\n",
       "    <tr>\n",
       "      <th>qcae_aff</th>\n",
       "      <td>-0.008130</td>\n",
       "      <td>0.263384</td>\n",
       "      <td>0.258696</td>\n",
       "      <td>1.000000</td>\n",
       "      <td>-0.071391</td>\n",
       "      <td>0.141379</td>\n",
       "      <td>0.250947</td>\n",
       "      <td>0.331350</td>\n",
       "      <td>0.215886</td>\n",
       "      <td>0.128488</td>\n",
       "      <td>-0.113891</td>\n",
       "    </tr>\n",
       "    <tr>\n",
       "      <th>amsp</th>\n",
       "      <td>0.000477</td>\n",
       "      <td>0.099395</td>\n",
       "      <td>0.386682</td>\n",
       "      <td>-0.071391</td>\n",
       "      <td>1.000000</td>\n",
       "      <td>0.002780</td>\n",
       "      <td>-0.152052</td>\n",
       "      <td>-0.249231</td>\n",
       "      <td>-0.073011</td>\n",
       "      <td>-0.029343</td>\n",
       "      <td>0.220616</td>\n",
       "    </tr>\n",
       "    <tr>\n",
       "      <th>erec_mean</th>\n",
       "      <td>-0.018699</td>\n",
       "      <td>0.097062</td>\n",
       "      <td>0.073708</td>\n",
       "      <td>0.141379</td>\n",
       "      <td>0.002780</td>\n",
       "      <td>1.000000</td>\n",
       "      <td>0.029881</td>\n",
       "      <td>0.037688</td>\n",
       "      <td>0.015348</td>\n",
       "      <td>0.061965</td>\n",
       "      <td>-0.034889</td>\n",
       "    </tr>\n",
       "    <tr>\n",
       "      <th>cesd</th>\n",
       "      <td>-0.139106</td>\n",
       "      <td>-0.080058</td>\n",
       "      <td>-0.034244</td>\n",
       "      <td>0.250947</td>\n",
       "      <td>-0.152052</td>\n",
       "      <td>0.029881</td>\n",
       "      <td>1.000000</td>\n",
       "      <td>0.715728</td>\n",
       "      <td>0.605617</td>\n",
       "      <td>0.407727</td>\n",
       "      <td>-0.453589</td>\n",
       "    </tr>\n",
       "    <tr>\n",
       "      <th>stai_t</th>\n",
       "      <td>-0.081893</td>\n",
       "      <td>-0.075036</td>\n",
       "      <td>-0.077868</td>\n",
       "      <td>0.331350</td>\n",
       "      <td>-0.249231</td>\n",
       "      <td>0.037688</td>\n",
       "      <td>0.715728</td>\n",
       "      <td>1.000000</td>\n",
       "      <td>0.530486</td>\n",
       "      <td>0.331884</td>\n",
       "      <td>-0.462535</td>\n",
       "    </tr>\n",
       "    <tr>\n",
       "      <th>mbi_ex</th>\n",
       "      <td>-0.182733</td>\n",
       "      <td>-0.040542</td>\n",
       "      <td>-0.023630</td>\n",
       "      <td>0.215886</td>\n",
       "      <td>-0.073011</td>\n",
       "      <td>0.015348</td>\n",
       "      <td>0.605617</td>\n",
       "      <td>0.530486</td>\n",
       "      <td>1.000000</td>\n",
       "      <td>0.505200</td>\n",
       "      <td>-0.480821</td>\n",
       "    </tr>\n",
       "    <tr>\n",
       "      <th>mbi_cy</th>\n",
       "      <td>-0.001853</td>\n",
       "      <td>-0.006981</td>\n",
       "      <td>-0.024820</td>\n",
       "      <td>0.128488</td>\n",
       "      <td>-0.029343</td>\n",
       "      <td>0.061965</td>\n",
       "      <td>0.407727</td>\n",
       "      <td>0.331884</td>\n",
       "      <td>0.505200</td>\n",
       "      <td>1.000000</td>\n",
       "      <td>-0.565939</td>\n",
       "    </tr>\n",
       "    <tr>\n",
       "      <th>mbi_ea</th>\n",
       "      <td>0.046130</td>\n",
       "      <td>0.082508</td>\n",
       "      <td>0.184096</td>\n",
       "      <td>-0.113891</td>\n",
       "      <td>0.220616</td>\n",
       "      <td>-0.034889</td>\n",
       "      <td>-0.453589</td>\n",
       "      <td>-0.462535</td>\n",
       "      <td>-0.480821</td>\n",
       "      <td>-0.565939</td>\n",
       "      <td>1.000000</td>\n",
       "    </tr>\n",
       "  </tbody>\n",
       "</table>\n",
       "</div>"
      ],
      "text/plain": [
       "                age      jspe  qcae_cog  qcae_aff      amsp  erec_mean  \\\n",
       "age        1.000000  0.223221  0.059355 -0.008130  0.000477  -0.018699   \n",
       "jspe       0.223221  1.000000  0.342668  0.263384  0.099395   0.097062   \n",
       "qcae_cog   0.059355  0.342668  1.000000  0.258696  0.386682   0.073708   \n",
       "qcae_aff  -0.008130  0.263384  0.258696  1.000000 -0.071391   0.141379   \n",
       "amsp       0.000477  0.099395  0.386682 -0.071391  1.000000   0.002780   \n",
       "erec_mean -0.018699  0.097062  0.073708  0.141379  0.002780   1.000000   \n",
       "cesd      -0.139106 -0.080058 -0.034244  0.250947 -0.152052   0.029881   \n",
       "stai_t    -0.081893 -0.075036 -0.077868  0.331350 -0.249231   0.037688   \n",
       "mbi_ex    -0.182733 -0.040542 -0.023630  0.215886 -0.073011   0.015348   \n",
       "mbi_cy    -0.001853 -0.006981 -0.024820  0.128488 -0.029343   0.061965   \n",
       "mbi_ea     0.046130  0.082508  0.184096 -0.113891  0.220616  -0.034889   \n",
       "\n",
       "               cesd    stai_t    mbi_ex    mbi_cy    mbi_ea  \n",
       "age       -0.139106 -0.081893 -0.182733 -0.001853  0.046130  \n",
       "jspe      -0.080058 -0.075036 -0.040542 -0.006981  0.082508  \n",
       "qcae_cog  -0.034244 -0.077868 -0.023630 -0.024820  0.184096  \n",
       "qcae_aff   0.250947  0.331350  0.215886  0.128488 -0.113891  \n",
       "amsp      -0.152052 -0.249231 -0.073011 -0.029343  0.220616  \n",
       "erec_mean  0.029881  0.037688  0.015348  0.061965 -0.034889  \n",
       "cesd       1.000000  0.715728  0.605617  0.407727 -0.453589  \n",
       "stai_t     0.715728  1.000000  0.530486  0.331884 -0.462535  \n",
       "mbi_ex     0.605617  0.530486  1.000000  0.505200 -0.480821  \n",
       "mbi_cy     0.407727  0.331884  0.505200  1.000000 -0.565939  \n",
       "mbi_ea    -0.453589 -0.462535 -0.480821 -0.565939  1.000000  "
      ]
     },
     "execution_count": 22,
     "metadata": {},
     "output_type": "execute_result"
    }
   ],
   "source": [
    "# Correlation matrix using Pearson's correlation coefficient (r) and p-value (p) to determine the statistical significance\n",
    "corr_matrix = df_num.corr(method='pearson')\n",
    "corr_matrix"
   ]
  },
  {
   "cell_type": "markdown",
   "id": "3a9fe488",
   "metadata": {
    "papermill": {
     "duration": 0.026358,
     "end_time": "2023-02-02T13:57:00.648036",
     "exception": false,
     "start_time": "2023-02-02T13:57:00.621678",
     "status": "completed"
    },
    "tags": []
   },
   "source": []
  },
  {
   "cell_type": "code",
   "execution_count": 23,
   "id": "fcd7c80e",
   "metadata": {
    "collapsed": false,
    "execution": {
     "iopub.execute_input": "2023-02-02T13:57:00.702975Z",
     "iopub.status.busy": "2023-02-02T13:57:00.702480Z",
     "iopub.status.idle": "2023-02-02T13:57:01.575436Z",
     "shell.execute_reply": "2023-02-02T13:57:01.574309Z"
    },
    "jupyter": {
     "outputs_hidden": false
    },
    "papermill": {
     "duration": 0.904902,
     "end_time": "2023-02-02T13:57:01.578843",
     "exception": false,
     "start_time": "2023-02-02T13:57:00.673941",
     "status": "completed"
    },
    "tags": []
   },
   "outputs": [
    {
     "data": {
      "image/png": "[encoded data removed]",
      "text/plain": [
       "<Figure size 720x720 with 2 Axes>"
      ]
     },
     "metadata": {
      "needs_background": "light"
     },
     "output_type": "display_data"
    }
   ],
   "source": [
    "# Heatmap of the correlation matrix\n",
    "plt.figure(figsize=(10,10))\n",
    "sns.heatmap(corr_matrix, annot=True, cmap='coolwarm')\n",
    "plt.show()"
   ]
  },
  {
   "cell_type": "code",
   "execution_count": 24,
   "id": "f49705d5",
   "metadata": {
    "collapsed": false,
    "execution": {
     "iopub.execute_input": "2023-02-02T13:57:01.637983Z",
     "iopub.status.busy": "2023-02-02T13:57:01.636422Z",
     "iopub.status.idle": "2023-02-02T13:57:01.662422Z",
     "shell.execute_reply": "2023-02-02T13:57:01.660984Z"
    },
    "jupyter": {
     "outputs_hidden": false
    },
    "papermill": {
     "duration": 0.057644,
     "end_time": "2023-02-02T13:57:01.665247",
     "exception": false,
     "start_time": "2023-02-02T13:57:01.607603",
     "status": "completed"
    },
    "tags": []
   },
   "outputs": [
    {
     "data": {
      "text/html": [
       "<div>\n",
       "<style scoped>\n",
       "    .dataframe tbody tr th:only-of-type {\n",
       "        vertical-align: middle;\n",
       "    }\n",
       "\n",
       "    .dataframe tbody tr th {\n",
       "        vertical-align: top;\n",
       "    }\n",
       "\n",
       "    .dataframe thead th {\n",
       "        text-align: right;\n",
       "    }\n",
       "</style>\n",
       "<table border=\"1\" class=\"dataframe\">\n",
       "  <thead>\n",
       "    <tr style=\"text-align: right;\">\n",
       "      <th></th>\n",
       "      <th>Variable 1</th>\n",
       "      <th>Variable 2</th>\n",
       "      <th>Correlation</th>\n",
       "    </tr>\n",
       "  </thead>\n",
       "  <tbody>\n",
       "    <tr>\n",
       "      <th>73</th>\n",
       "      <td>cesd</td>\n",
       "      <td>stai_t</td>\n",
       "      <td>0.715728</td>\n",
       "    </tr>\n",
       "    <tr>\n",
       "      <th>83</th>\n",
       "      <td>stai_t</td>\n",
       "      <td>cesd</td>\n",
       "      <td>0.715728</td>\n",
       "    </tr>\n",
       "    <tr>\n",
       "      <th>74</th>\n",
       "      <td>cesd</td>\n",
       "      <td>mbi_ex</td>\n",
       "      <td>0.605617</td>\n",
       "    </tr>\n",
       "    <tr>\n",
       "      <th>94</th>\n",
       "      <td>mbi_ex</td>\n",
       "      <td>cesd</td>\n",
       "      <td>0.605617</td>\n",
       "    </tr>\n",
       "    <tr>\n",
       "      <th>85</th>\n",
       "      <td>stai_t</td>\n",
       "      <td>mbi_ex</td>\n",
       "      <td>0.530486</td>\n",
       "    </tr>\n",
       "    <tr>\n",
       "      <th>...</th>\n",
       "      <td>...</td>\n",
       "      <td>...</td>\n",
       "      <td>...</td>\n",
       "    </tr>\n",
       "    <tr>\n",
       "      <th>117</th>\n",
       "      <td>mbi_ea</td>\n",
       "      <td>stai_t</td>\n",
       "      <td>-0.462535</td>\n",
       "    </tr>\n",
       "    <tr>\n",
       "      <th>118</th>\n",
       "      <td>mbi_ea</td>\n",
       "      <td>mbi_ex</td>\n",
       "      <td>-0.480821</td>\n",
       "    </tr>\n",
       "    <tr>\n",
       "      <th>98</th>\n",
       "      <td>mbi_ex</td>\n",
       "      <td>mbi_ea</td>\n",
       "      <td>-0.480821</td>\n",
       "    </tr>\n",
       "    <tr>\n",
       "      <th>109</th>\n",
       "      <td>mbi_cy</td>\n",
       "      <td>mbi_ea</td>\n",
       "      <td>-0.565939</td>\n",
       "    </tr>\n",
       "    <tr>\n",
       "      <th>119</th>\n",
       "      <td>mbi_ea</td>\n",
       "      <td>mbi_cy</td>\n",
       "      <td>-0.565939</td>\n",
       "    </tr>\n",
       "  </tbody>\n",
       "</table>\n",
       "<p>110 rows × 3 columns</p>\n",
       "</div>"
      ],
      "text/plain": [
       "    Variable 1 Variable 2  Correlation\n",
       "73        cesd     stai_t     0.715728\n",
       "83      stai_t       cesd     0.715728\n",
       "74        cesd     mbi_ex     0.605617\n",
       "94      mbi_ex       cesd     0.605617\n",
       "85      stai_t     mbi_ex     0.530486\n",
       "..         ...        ...          ...\n",
       "117     mbi_ea     stai_t    -0.462535\n",
       "118     mbi_ea     mbi_ex    -0.480821\n",
       "98      mbi_ex     mbi_ea    -0.480821\n",
       "109     mbi_cy     mbi_ea    -0.565939\n",
       "119     mbi_ea     mbi_cy    -0.565939\n",
       "\n",
       "[110 rows x 3 columns]"
      ]
     },
     "execution_count": 24,
     "metadata": {},
     "output_type": "execute_result"
    }
   ],
   "source": [
    "# Get a dataframe of the most to least correlated variables\n",
    "corr_matrix = corr_matrix.unstack().reset_index()\n",
    "corr_matrix.columns = ['Variable 1', 'Variable 2', 'Correlation']\n",
    "corr_matrix = corr_matrix[corr_matrix['Variable 1'] != corr_matrix['Variable 2']]\n",
    "corr_matrix = corr_matrix.sort_values(by='Correlation', ascending=False)\n",
    "corr_matrix"
   ]
  },
  {
   "cell_type": "markdown",
   "id": "f496c818",
   "metadata": {
    "papermill": {
     "duration": 0.028166,
     "end_time": "2023-02-02T13:57:01.722948",
     "exception": false,
     "start_time": "2023-02-02T13:57:01.694782",
     "status": "completed"
    },
    "tags": []
   },
   "source": [
    "### Principal Component Analysis (PCA)"
   ]
  },
  {
   "cell_type": "markdown",
   "id": "d11cc3ed",
   "metadata": {
    "papermill": {
     "duration": 0.027371,
     "end_time": "2023-02-02T13:57:01.777484",
     "exception": false,
     "start_time": "2023-02-02T13:57:01.750113",
     "status": "completed"
    },
    "tags": []
   },
   "source": [
    "PCA is a dimensionality reduction technique that is used to reduce the number of variables in a dataset while retaining as much information as possible. It is used to reduce the number of variables in a dataset by transforming a large set of variables into a smaller one that still contains most of the information in the large set."
   ]
  },
  {
   "cell_type": "code",
   "execution_count": 25,
   "id": "d0e485f3",
   "metadata": {
    "collapsed": false,
    "execution": {
     "iopub.execute_input": "2023-02-02T13:57:01.833769Z",
     "iopub.status.busy": "2023-02-02T13:57:01.833241Z",
     "iopub.status.idle": "2023-02-02T13:57:02.136094Z",
     "shell.execute_reply": "2023-02-02T13:57:02.134712Z"
    },
    "jupyter": {
     "outputs_hidden": false
    },
    "papermill": {
     "duration": 0.334787,
     "end_time": "2023-02-02T13:57:02.139314",
     "exception": false,
     "start_time": "2023-02-02T13:57:01.804527",
     "status": "completed"
    },
    "tags": []
   },
   "outputs": [],
   "source": [
    "# Imports\n",
    "from sklearn.decomposition import PCA\n",
    "from sklearn.preprocessing import StandardScaler"
   ]
  },
  {
   "cell_type": "code",
   "execution_count": 26,
   "id": "5b7dfe6c",
   "metadata": {
    "collapsed": false,
    "execution": {
     "iopub.execute_input": "2023-02-02T13:57:02.197319Z",
     "iopub.status.busy": "2023-02-02T13:57:02.196816Z",
     "iopub.status.idle": "2023-02-02T13:57:02.224030Z",
     "shell.execute_reply": "2023-02-02T13:57:02.222705Z"
    },
    "jupyter": {
     "outputs_hidden": false
    },
    "papermill": {
     "duration": 0.062948,
     "end_time": "2023-02-02T13:57:02.230541",
     "exception": false,
     "start_time": "2023-02-02T13:57:02.167593",
     "status": "completed"
    },
    "tags": []
   },
   "outputs": [
    {
     "name": "stdout",
     "output_type": "stream",
     "text": [
      "The shape of the pca is :  (886, 10)\n"
     ]
    }
   ],
   "source": [
    "# Standardize the data\n",
    "scaler = StandardScaler()\n",
    "df_num_scaled = scaler.fit_transform(df_num)\n",
    "\n",
    "# Create a PCA instance: pca\n",
    "pca = PCA(n_components=0.95)\n",
    "\n",
    "# Fit the PCA instance to the scaled samples\n",
    "pca.fit(df_num_scaled)\n",
    "\n",
    "# Transform the scaled samples: pca_features\n",
    "pca_features = pca.transform(df_num_scaled)\n",
    "\n",
    "# Print the shape of pca_features\n",
    "print(\"The shape of the pca is : \", pca_features.shape)"
   ]
  },
  {
   "cell_type": "code",
   "execution_count": 27,
   "id": "edb3b782",
   "metadata": {
    "collapsed": false,
    "execution": {
     "iopub.execute_input": "2023-02-02T13:57:02.353045Z",
     "iopub.status.busy": "2023-02-02T13:57:02.352557Z",
     "iopub.status.idle": "2023-02-02T13:57:02.576091Z",
     "shell.execute_reply": "2023-02-02T13:57:02.574980Z"
    },
    "jupyter": {
     "outputs_hidden": false
    },
    "papermill": {
     "duration": 0.281141,
     "end_time": "2023-02-02T13:57:02.579566",
     "exception": false,
     "start_time": "2023-02-02T13:57:02.298425",
     "status": "completed"
    },
    "tags": []
   },
   "outputs": [
    {
     "data": {
      "image/png": "[encoded data removed]",
      "text/plain": [
       "<Figure size 432x288 with 1 Axes>"
      ]
     },
     "metadata": {
      "needs_background": "light"
     },
     "output_type": "display_data"
    }
   ],
   "source": [
    "# Plot the cumulative sum of the explained variance ratio\n",
    "plt.plot(np.cumsum(pca.explained_variance_ratio_))\n",
    "plt.xlabel('Number of components')\n",
    "plt.ylabel('Cumulative explained variance')\n",
    "plt.show()"
   ]
  },
  {
   "cell_type": "markdown",
   "id": "ec234827",
   "metadata": {
    "papermill": {
     "duration": 0.027927,
     "end_time": "2023-02-02T13:57:02.635484",
     "exception": false,
     "start_time": "2023-02-02T13:57:02.607557",
     "status": "completed"
    },
    "tags": []
   },
   "source": [
    "Interpretation:\n",
    "1. The explained variance tells you how much information (variance) can be attributed to each of the principal components.\n",
    "2. The cumulative explained variance tells you how much information (variance) can be attributed to the principal components."
   ]
  },
  {
   "cell_type": "markdown",
   "id": "f7437fd7",
   "metadata": {
    "papermill": {
     "duration": 0.028579,
     "end_time": "2023-02-02T13:57:02.693076",
     "exception": false,
     "start_time": "2023-02-02T13:57:02.664497",
     "status": "completed"
    },
    "tags": []
   },
   "source": [
    "#### Loadings of the principal components"
   ]
  },
  {
   "cell_type": "markdown",
   "id": "a2e95ba2",
   "metadata": {
    "papermill": {
     "duration": 0.03383,
     "end_time": "2023-02-02T13:57:02.754197",
     "exception": false,
     "start_time": "2023-02-02T13:57:02.720367",
     "status": "completed"
    },
    "tags": []
   },
   "source": [
    "Loadings are the coefficients that describe how each variable contributes to the principal components. The loadings are the weights that are assigned to each variable in a principal component.\n",
    "The higher the absolute value of the loading, the more important the variable is in that principal component. The loadings can be positive or negative, depending on the direction of the correlation between the variable and the principal component."
   ]
  },
  {
   "cell_type": "code",
   "execution_count": 28,
   "id": "534ba958",
   "metadata": {
    "collapsed": false,
    "execution": {
     "iopub.execute_input": "2023-02-02T13:57:02.830918Z",
     "iopub.status.busy": "2023-02-02T13:57:02.828867Z",
     "iopub.status.idle": "2023-02-02T13:57:02.860648Z",
     "shell.execute_reply": "2023-02-02T13:57:02.858438Z"
    },
    "jupyter": {
     "outputs_hidden": false
    },
    "papermill": {
     "duration": 0.072401,
     "end_time": "2023-02-02T13:57:02.864178",
     "exception": false,
     "start_time": "2023-02-02T13:57:02.791777",
     "status": "completed"
    },
    "tags": []
   },
   "outputs": [
    {
     "data": {
      "text/html": [
       "<div>\n",
       "<style scoped>\n",
       "    .dataframe tbody tr th:only-of-type {\n",
       "        vertical-align: middle;\n",
       "    }\n",
       "\n",
       "    .dataframe tbody tr th {\n",
       "        vertical-align: top;\n",
       "    }\n",
       "\n",
       "    .dataframe thead th {\n",
       "        text-align: right;\n",
       "    }\n",
       "</style>\n",
       "<table border=\"1\" class=\"dataframe\">\n",
       "  <thead>\n",
       "    <tr style=\"text-align: right;\">\n",
       "      <th></th>\n",
       "      <th>Feature</th>\n",
       "      <th>PC1</th>\n",
       "      <th>PC2</th>\n",
       "      <th>PC3</th>\n",
       "      <th>PC4</th>\n",
       "    </tr>\n",
       "  </thead>\n",
       "  <tbody>\n",
       "    <tr>\n",
       "      <th>6</th>\n",
       "      <td>cesd</td>\n",
       "      <td>0.458541</td>\n",
       "      <td>-0.046279</td>\n",
       "      <td>-0.085557</td>\n",
       "      <td>-0.076355</td>\n",
       "    </tr>\n",
       "    <tr>\n",
       "      <th>7</th>\n",
       "      <td>stai_t</td>\n",
       "      <td>0.449099</td>\n",
       "      <td>-0.033290</td>\n",
       "      <td>0.080979</td>\n",
       "      <td>-0.162486</td>\n",
       "    </tr>\n",
       "    <tr>\n",
       "      <th>8</th>\n",
       "      <td>mbi_ex</td>\n",
       "      <td>0.439070</td>\n",
       "      <td>-0.064837</td>\n",
       "      <td>-0.208321</td>\n",
       "      <td>0.077397</td>\n",
       "    </tr>\n",
       "    <tr>\n",
       "      <th>9</th>\n",
       "      <td>mbi_cy</td>\n",
       "      <td>0.370709</td>\n",
       "      <td>-0.072630</td>\n",
       "      <td>-0.078645</td>\n",
       "      <td>0.432332</td>\n",
       "    </tr>\n",
       "    <tr>\n",
       "      <th>3</th>\n",
       "      <td>qcae_aff</td>\n",
       "      <td>0.194772</td>\n",
       "      <td>-0.433048</td>\n",
       "      <td>0.202812</td>\n",
       "      <td>-0.379505</td>\n",
       "    </tr>\n",
       "    <tr>\n",
       "      <th>5</th>\n",
       "      <td>erec_mean</td>\n",
       "      <td>0.041116</td>\n",
       "      <td>-0.206945</td>\n",
       "      <td>0.142923</td>\n",
       "      <td>-0.408599</td>\n",
       "    </tr>\n",
       "    <tr>\n",
       "      <th>1</th>\n",
       "      <td>jspe</td>\n",
       "      <td>-0.061134</td>\n",
       "      <td>-0.524935</td>\n",
       "      <td>0.311785</td>\n",
       "      <td>0.100690</td>\n",
       "    </tr>\n",
       "    <tr>\n",
       "      <th>2</th>\n",
       "      <td>qcae_cog</td>\n",
       "      <td>-0.082262</td>\n",
       "      <td>-0.586499</td>\n",
       "      <td>-0.266619</td>\n",
       "      <td>0.016397</td>\n",
       "    </tr>\n",
       "    <tr>\n",
       "      <th>0</th>\n",
       "      <td>age</td>\n",
       "      <td>-0.099325</td>\n",
       "      <td>-0.166581</td>\n",
       "      <td>0.578004</td>\n",
       "      <td>0.545685</td>\n",
       "    </tr>\n",
       "    <tr>\n",
       "      <th>4</th>\n",
       "      <td>amsp</td>\n",
       "      <td>-0.164774</td>\n",
       "      <td>-0.320225</td>\n",
       "      <td>-0.605181</td>\n",
       "      <td>0.284402</td>\n",
       "    </tr>\n",
       "    <tr>\n",
       "      <th>10</th>\n",
       "      <td>mbi_ea</td>\n",
       "      <td>-0.413154</td>\n",
       "      <td>-0.084156</td>\n",
       "      <td>-0.079698</td>\n",
       "      <td>-0.273544</td>\n",
       "    </tr>\n",
       "  </tbody>\n",
       "</table>\n",
       "</div>"
      ],
      "text/plain": [
       "      Feature       PC1       PC2       PC3       PC4\n",
       "6        cesd  0.458541 -0.046279 -0.085557 -0.076355\n",
       "7      stai_t  0.449099 -0.033290  0.080979 -0.162486\n",
       "8      mbi_ex  0.439070 -0.064837 -0.208321  0.077397\n",
       "9      mbi_cy  0.370709 -0.072630 -0.078645  0.432332\n",
       "3    qcae_aff  0.194772 -0.433048  0.202812 -0.379505\n",
       "5   erec_mean  0.041116 -0.206945  0.142923 -0.408599\n",
       "1        jspe -0.061134 -0.524935  0.311785  0.100690\n",
       "2    qcae_cog -0.082262 -0.586499 -0.266619  0.016397\n",
       "0         age -0.099325 -0.166581  0.578004  0.545685\n",
       "4        amsp -0.164774 -0.320225 -0.605181  0.284402\n",
       "10     mbi_ea -0.413154 -0.084156 -0.079698 -0.273544"
      ]
     },
     "execution_count": 28,
     "metadata": {},
     "output_type": "execute_result"
    }
   ],
   "source": [
    "# Create a dataframe of the loadings of the first four principal components and the variable names (columns) of the original dataset (index)\n",
    "loadings = pd.DataFrame({'Feature': df_num.columns, 'PC1': pca.components_[0], 'PC2': pca.components_[1], 'PC3': pca.components_[2], 'PC4': pca.components_[3]})\n",
    "loadings\n",
    "\n",
    "# Sort the loadings of each principal component by their absolute value in descending order and print the first 5 rows\n",
    "loadings = loadings.sort_values(by=['PC1', 'PC2', 'PC3', 'PC4'], ascending=False)\n",
    "loadings.head(20)"
   ]
  },
  {
   "cell_type": "markdown",
   "id": "fe959633",
   "metadata": {
    "papermill": {
     "duration": 0.027917,
     "end_time": "2023-02-02T13:57:02.924151",
     "exception": false,
     "start_time": "2023-02-02T13:57:02.896234",
     "status": "completed"
    },
    "tags": []
   },
   "source": [
    "The most significant original variables for each PC can be identified by looking at the magnitude of their loadings, or the weights assigned to each variable in the construction of each PC.\n",
    "\n",
    "* For the first PC, the variables with the highest absolute loadings are \"cesd\", \"stai_t\", and \"mbi_ex\".\n",
    "\n",
    "* For the second PC, the variable with the highest absolute loading is \"qcae_cog\".\n",
    "\n",
    "* For the third PC, the variable with the highest absolute loading is \"amsp\".\n",
    "\n",
    "* For the fourth PC, the variable with the highest absolute loading is \"age\".\n",
    "\n",
    "These are the most significant original variables for each PC, and they are the ones that contribute the most to explaining the variance in the data set."
   ]
  },
  {
   "cell_type": "markdown",
   "id": "d6044693",
   "metadata": {
    "papermill": {
     "duration": 0.029654,
     "end_time": "2023-02-02T13:57:02.982987",
     "exception": false,
     "start_time": "2023-02-02T13:57:02.953333",
     "status": "completed"
    },
    "tags": []
   },
   "source": [
    "### Clustering"
   ]
  },
  {
   "cell_type": "markdown",
   "id": "3a48c937",
   "metadata": {
    "papermill": {
     "duration": 0.027492,
     "end_time": "2023-02-02T13:57:03.040789",
     "exception": false,
     "start_time": "2023-02-02T13:57:03.013297",
     "status": "completed"
    },
    "tags": []
   },
   "source": [
    "Clustering is the process of grouping a set of objects in such a way that objects in the same group (called a cluster) are more similar (in some sense or another) to each other than to those in other groups (clusters)."
   ]
  },
  {
   "cell_type": "code",
   "execution_count": 29,
   "id": "bbcb54b9",
   "metadata": {
    "collapsed": false,
    "execution": {
     "iopub.execute_input": "2023-02-02T13:57:03.100753Z",
     "iopub.status.busy": "2023-02-02T13:57:03.100190Z",
     "iopub.status.idle": "2023-02-02T13:57:03.264989Z",
     "shell.execute_reply": "2023-02-02T13:57:03.263391Z"
    },
    "jupyter": {
     "outputs_hidden": false
    },
    "papermill": {
     "duration": 0.198433,
     "end_time": "2023-02-02T13:57:03.268316",
     "exception": false,
     "start_time": "2023-02-02T13:57:03.069883",
     "status": "completed"
    },
    "tags": []
   },
   "outputs": [],
   "source": [
    "# Imports\n",
    "from sklearn.cluster import KMeans"
   ]
  },
  {
   "cell_type": "code",
   "execution_count": 30,
   "id": "cb578ccf",
   "metadata": {
    "collapsed": false,
    "execution": {
     "iopub.execute_input": "2023-02-02T13:57:03.327860Z",
     "iopub.status.busy": "2023-02-02T13:57:03.327330Z",
     "iopub.status.idle": "2023-02-02T13:57:04.555134Z",
     "shell.execute_reply": "2023-02-02T13:57:04.553515Z"
    },
    "jupyter": {
     "outputs_hidden": false
    },
    "papermill": {
     "duration": 1.261044,
     "end_time": "2023-02-02T13:57:04.558066",
     "exception": false,
     "start_time": "2023-02-02T13:57:03.297022",
     "status": "completed"
    },
    "tags": []
   },
   "outputs": [
    {
     "data": {
      "image/png": "[encoded data removed]",
      "text/plain": [
       "<Figure size 432x288 with 1 Axes>"
      ]
     },
     "metadata": {
      "needs_background": "light"
     },
     "output_type": "display_data"
    }
   ],
   "source": [
    "# How can I determine the optimal number of clusters?\n",
    "# Create a list of inertia values for different k values\n",
    "inertia = []\n",
    "for k in range(1, 10):\n",
    "    # Create a KMeans instance with k clusters: model\n",
    "    model = KMeans(n_clusters=k)\n",
    "\n",
    "    # Fit model to samples\n",
    "    model.fit(pca_features)\n",
    "\n",
    "    # Append the inertia to the list of inertias\n",
    "    inertia.append(model.inertia_)\n",
    "\n",
    "# Plot ks vs inertias\n",
    "plt.plot(range(1, 10), inertia, '-o')\n",
    "plt.xlabel('Number of clusters, k')\n",
    "plt.ylabel('Inertia')\n",
    "plt.xticks(range(1, 10))\n",
    "plt.show()\n"
   ]
  },
  {
   "cell_type": "markdown",
   "id": "64485df8",
   "metadata": {
    "papermill": {
     "duration": 0.029139,
     "end_time": "2023-02-02T13:57:04.615909",
     "exception": false,
     "start_time": "2023-02-02T13:57:04.586770",
     "status": "completed"
    },
    "tags": []
   },
   "source": [
    "The point where the inertia begins to decrease more slowly is a good choice for the number of clusters. We choose n=3 clusters."
   ]
  },
  {
   "cell_type": "code",
   "execution_count": 31,
   "id": "5671111c",
   "metadata": {
    "collapsed": false,
    "execution": {
     "iopub.execute_input": "2023-02-02T13:57:04.677473Z",
     "iopub.status.busy": "2023-02-02T13:57:04.676900Z",
     "iopub.status.idle": "2023-02-02T13:57:04.817747Z",
     "shell.execute_reply": "2023-02-02T13:57:04.816522Z"
    },
    "jupyter": {
     "outputs_hidden": false
    },
    "papermill": {
     "duration": 0.176218,
     "end_time": "2023-02-02T13:57:04.820985",
     "exception": false,
     "start_time": "2023-02-02T13:57:04.644767",
     "status": "completed"
    },
    "tags": []
   },
   "outputs": [],
   "source": [
    "# Create a KMeans instance with 3 clusters: model (k=3) and fit it to the data (pca_features) using the fit() method\n",
    "model = KMeans(n_clusters=3)\n",
    "clusters = model.fit_predict(pca_features)"
   ]
  },
  {
   "cell_type": "code",
   "execution_count": 32,
   "id": "2178bbb3",
   "metadata": {
    "collapsed": false,
    "execution": {
     "iopub.execute_input": "2023-02-02T13:57:04.880094Z",
     "iopub.status.busy": "2023-02-02T13:57:04.879637Z",
     "iopub.status.idle": "2023-02-02T13:57:05.114734Z",
     "shell.execute_reply": "2023-02-02T13:57:05.113725Z"
    },
    "jupyter": {
     "outputs_hidden": false
    },
    "papermill": {
     "duration": 0.266932,
     "end_time": "2023-02-02T13:57:05.117479",
     "exception": false,
     "start_time": "2023-02-02T13:57:04.850547",
     "status": "completed"
    },
    "tags": []
   },
   "outputs": [
    {
     "data": {
      "image/png": "[encoded data removed]",
      "text/plain": [
       "<Figure size 432x288 with 1 Axes>"
      ]
     },
     "metadata": {
      "needs_background": "light"
     },
     "output_type": "display_data"
    }
   ],
   "source": [
    "# Create a scatter plot of the first two principal components\n",
    "plt.scatter(pca_features[:,0], pca_features[:,1], c=clusters, cmap='viridis')\n",
    "plt.xlabel('PC1')\n",
    "plt.ylabel('PC2')\n",
    "plt.show()"
   ]
  },
  {
   "cell_type": "code",
   "execution_count": 33,
   "id": "26140667",
   "metadata": {
    "collapsed": false,
    "execution": {
     "iopub.execute_input": "2023-02-02T13:57:05.177792Z",
     "iopub.status.busy": "2023-02-02T13:57:05.176358Z",
     "iopub.status.idle": "2023-02-02T13:57:05.182593Z",
     "shell.execute_reply": "2023-02-02T13:57:05.181453Z"
    },
    "jupyter": {
     "outputs_hidden": false
    },
    "papermill": {
     "duration": 0.039221,
     "end_time": "2023-02-02T13:57:05.185315",
     "exception": false,
     "start_time": "2023-02-02T13:57:05.146094",
     "status": "completed"
    },
    "tags": []
   },
   "outputs": [],
   "source": [
    "# Extracting the cluster labels\n",
    "cluster_labels = model.labels_"
   ]
  },
  {
   "cell_type": "code",
   "execution_count": 34,
   "id": "a8e8d49c",
   "metadata": {
    "collapsed": false,
    "execution": {
     "iopub.execute_input": "2023-02-02T13:57:05.244914Z",
     "iopub.status.busy": "2023-02-02T13:57:05.244434Z",
     "iopub.status.idle": "2023-02-02T13:57:05.254795Z",
     "shell.execute_reply": "2023-02-02T13:57:05.253543Z"
    },
    "jupyter": {
     "outputs_hidden": false
    },
    "papermill": {
     "duration": 0.043914,
     "end_time": "2023-02-02T13:57:05.257876",
     "exception": false,
     "start_time": "2023-02-02T13:57:05.213962",
     "status": "completed"
    },
    "tags": []
   },
   "outputs": [],
   "source": [
    "# Adding the cluster labels to the original data frame\n",
    "df_clustered = df_num.copy() # Create a copy of the original data frame\n",
    "df_clustered['Cluster'] = cluster_labels # Add the cluster labels to the copy of the original data frame"
   ]
  },
  {
   "cell_type": "code",
   "execution_count": 35,
   "id": "b73b186a",
   "metadata": {
    "collapsed": false,
    "execution": {
     "iopub.execute_input": "2023-02-02T13:57:05.317882Z",
     "iopub.status.busy": "2023-02-02T13:57:05.317426Z",
     "iopub.status.idle": "2023-02-02T13:57:05.335680Z",
     "shell.execute_reply": "2023-02-02T13:57:05.334423Z"
    },
    "jupyter": {
     "outputs_hidden": false
    },
    "papermill": {
     "duration": 0.051179,
     "end_time": "2023-02-02T13:57:05.338310",
     "exception": false,
     "start_time": "2023-02-02T13:57:05.287131",
     "status": "completed"
    },
    "tags": []
   },
   "outputs": [
    {
     "data": {
      "text/html": [
       "<div>\n",
       "<style scoped>\n",
       "    .dataframe tbody tr th:only-of-type {\n",
       "        vertical-align: middle;\n",
       "    }\n",
       "\n",
       "    .dataframe tbody tr th {\n",
       "        vertical-align: top;\n",
       "    }\n",
       "\n",
       "    .dataframe thead th {\n",
       "        text-align: right;\n",
       "    }\n",
       "</style>\n",
       "<table border=\"1\" class=\"dataframe\">\n",
       "  <thead>\n",
       "    <tr style=\"text-align: right;\">\n",
       "      <th></th>\n",
       "      <th>age</th>\n",
       "      <th>jspe</th>\n",
       "      <th>qcae_cog</th>\n",
       "      <th>qcae_aff</th>\n",
       "      <th>amsp</th>\n",
       "      <th>erec_mean</th>\n",
       "      <th>cesd</th>\n",
       "      <th>stai_t</th>\n",
       "      <th>mbi_ex</th>\n",
       "      <th>mbi_cy</th>\n",
       "      <th>mbi_ea</th>\n",
       "      <th>Cluster</th>\n",
       "    </tr>\n",
       "  </thead>\n",
       "  <tbody>\n",
       "    <tr>\n",
       "      <th>0</th>\n",
       "      <td>18</td>\n",
       "      <td>88</td>\n",
       "      <td>62</td>\n",
       "      <td>27</td>\n",
       "      <td>17</td>\n",
       "      <td>0.738095</td>\n",
       "      <td>34</td>\n",
       "      <td>61</td>\n",
       "      <td>17</td>\n",
       "      <td>13</td>\n",
       "      <td>20</td>\n",
       "      <td>0</td>\n",
       "    </tr>\n",
       "    <tr>\n",
       "      <th>1</th>\n",
       "      <td>26</td>\n",
       "      <td>109</td>\n",
       "      <td>55</td>\n",
       "      <td>37</td>\n",
       "      <td>22</td>\n",
       "      <td>0.690476</td>\n",
       "      <td>7</td>\n",
       "      <td>33</td>\n",
       "      <td>14</td>\n",
       "      <td>11</td>\n",
       "      <td>26</td>\n",
       "      <td>2</td>\n",
       "    </tr>\n",
       "    <tr>\n",
       "      <th>2</th>\n",
       "      <td>21</td>\n",
       "      <td>106</td>\n",
       "      <td>64</td>\n",
       "      <td>39</td>\n",
       "      <td>17</td>\n",
       "      <td>0.690476</td>\n",
       "      <td>25</td>\n",
       "      <td>73</td>\n",
       "      <td>24</td>\n",
       "      <td>7</td>\n",
       "      <td>23</td>\n",
       "      <td>1</td>\n",
       "    </tr>\n",
       "    <tr>\n",
       "      <th>3</th>\n",
       "      <td>21</td>\n",
       "      <td>101</td>\n",
       "      <td>52</td>\n",
       "      <td>33</td>\n",
       "      <td>18</td>\n",
       "      <td>0.833333</td>\n",
       "      <td>17</td>\n",
       "      <td>48</td>\n",
       "      <td>16</td>\n",
       "      <td>10</td>\n",
       "      <td>21</td>\n",
       "      <td>0</td>\n",
       "    </tr>\n",
       "    <tr>\n",
       "      <th>4</th>\n",
       "      <td>21</td>\n",
       "      <td>102</td>\n",
       "      <td>58</td>\n",
       "      <td>28</td>\n",
       "      <td>21</td>\n",
       "      <td>0.690476</td>\n",
       "      <td>14</td>\n",
       "      <td>46</td>\n",
       "      <td>22</td>\n",
       "      <td>14</td>\n",
       "      <td>23</td>\n",
       "      <td>0</td>\n",
       "    </tr>\n",
       "  </tbody>\n",
       "</table>\n",
       "</div>"
      ],
      "text/plain": [
       "   age  jspe  qcae_cog  qcae_aff  amsp  erec_mean  cesd  stai_t  mbi_ex  \\\n",
       "0   18    88        62        27    17   0.738095    34      61      17   \n",
       "1   26   109        55        37    22   0.690476     7      33      14   \n",
       "2   21   106        64        39    17   0.690476    25      73      24   \n",
       "3   21   101        52        33    18   0.833333    17      48      16   \n",
       "4   21   102        58        28    21   0.690476    14      46      22   \n",
       "\n",
       "   mbi_cy  mbi_ea  Cluster  \n",
       "0      13      20        0  \n",
       "1      11      26        2  \n",
       "2       7      23        1  \n",
       "3      10      21        0  \n",
       "4      14      23        0  "
      ]
     },
     "execution_count": 35,
     "metadata": {},
     "output_type": "execute_result"
    }
   ],
   "source": [
    "df_clustered.head(5) # Print the first 5 rows of the data frame"
   ]
  },
  {
   "cell_type": "code",
   "execution_count": 36,
   "id": "c1b66105",
   "metadata": {
    "collapsed": false,
    "execution": {
     "iopub.execute_input": "2023-02-02T13:57:05.396614Z",
     "iopub.status.busy": "2023-02-02T13:57:05.396129Z",
     "iopub.status.idle": "2023-02-02T13:57:05.416180Z",
     "shell.execute_reply": "2023-02-02T13:57:05.414482Z"
    },
    "jupyter": {
     "outputs_hidden": false
    },
    "papermill": {
     "duration": 0.053014,
     "end_time": "2023-02-02T13:57:05.419411",
     "exception": false,
     "start_time": "2023-02-02T13:57:05.366397",
     "status": "completed"
    },
    "tags": []
   },
   "outputs": [
    {
     "name": "stdout",
     "output_type": "stream",
     "text": [
      "               age        jspe   qcae_cog   qcae_aff       amsp  erec_mean  \\\n",
      "Cluster                                                                      \n",
      "0        21.493243   99.888514  54.084459  32.466216  21.459459   0.692326   \n",
      "1        22.220641  108.060498  59.533808  37.444840  22.352313   0.737756   \n",
      "2        23.385113  111.055016  61.864078  34.585761  25.495146   0.730775   \n",
      "\n",
      "              cesd     stai_t     mbi_ex     mbi_cy     mbi_ea  \n",
      "Cluster                                                         \n",
      "0        15.841216  42.081081  16.013514   9.209459  24.006757  \n",
      "1        29.056940  53.099644  21.672598  13.629893  20.750890  \n",
      "2        10.158576  34.404531  13.346278   7.682848  27.543689  \n"
     ]
    }
   ],
   "source": [
    "# Grouping the data frame by cluster to get the properties of each cluster\n",
    "cluster_grouped = df_clustered.groupby('Cluster')\n",
    "cluster_properties = cluster_grouped.mean()\n",
    "\n",
    "# Printing the properties of each cluster (mean values of the variables)\n",
    "print(cluster_properties)"
   ]
  },
  {
   "cell_type": "code",
   "execution_count": 37,
   "id": "c00a6978",
   "metadata": {
    "collapsed": false,
    "execution": {
     "iopub.execute_input": "2023-02-02T13:57:05.477214Z",
     "iopub.status.busy": "2023-02-02T13:57:05.476754Z",
     "iopub.status.idle": "2023-02-02T13:57:05.487023Z",
     "shell.execute_reply": "2023-02-02T13:57:05.485681Z"
    },
    "jupyter": {
     "outputs_hidden": false
    },
    "papermill": {
     "duration": 0.041925,
     "end_time": "2023-02-02T13:57:05.489396",
     "exception": false,
     "start_time": "2023-02-02T13:57:05.447471",
     "status": "completed"
    },
    "tags": []
   },
   "outputs": [
    {
     "data": {
      "text/plain": [
       "Cluster\n",
       "0    296\n",
       "1    281\n",
       "2    309\n",
       "dtype: int64"
      ]
     },
     "execution_count": 37,
     "metadata": {},
     "output_type": "execute_result"
    }
   ],
   "source": [
    "# Getting the number of patients in each cluster\n",
    "cluster_grouped.size()"
   ]
  },
  {
   "cell_type": "markdown",
   "id": "f1acff25",
   "metadata": {
    "papermill": {
     "duration": 0.028247,
     "end_time": "2023-02-02T13:57:05.545744",
     "exception": false,
     "start_time": "2023-02-02T13:57:05.517497",
     "status": "completed"
    },
    "tags": []
   },
   "source": [
    "There are 3 clusters, the Cluster 0 has 296 patients, the Cluster 1 has 281 patients, and the Cluster 2 has 309 patients."
   ]
  },
  {
   "cell_type": "code",
   "execution_count": 38,
   "id": "2c30b7de",
   "metadata": {
    "collapsed": false,
    "execution": {
     "iopub.execute_input": "2023-02-02T13:57:05.604224Z",
     "iopub.status.busy": "2023-02-02T13:57:05.603768Z",
     "iopub.status.idle": "2023-02-02T13:57:05.990933Z",
     "shell.execute_reply": "2023-02-02T13:57:05.989531Z"
    },
    "jupyter": {
     "outputs_hidden": false
    },
    "papermill": {
     "duration": 0.419694,
     "end_time": "2023-02-02T13:57:05.993751",
     "exception": false,
     "start_time": "2023-02-02T13:57:05.574057",
     "status": "completed"
    },
    "tags": []
   },
   "outputs": [
    {
     "data": {
      "image/png": "[encoded data removed]",
      "text/plain": [
       "<Figure size 1080x720 with 1 Axes>"
      ]
     },
     "metadata": {
      "needs_background": "light"
     },
     "output_type": "display_data"
    }
   ],
   "source": [
    "# Plotting the properties of each cluster\n",
    "cluster_properties.plot(kind='bar', figsize=(15, 10))\n",
    "plt.show()"
   ]
  },
  {
   "cell_type": "markdown",
   "id": "33b795f9",
   "metadata": {
    "papermill": {
     "duration": 0.029824,
     "end_time": "2023-02-02T13:57:06.053488",
     "exception": false,
     "start_time": "2023-02-02T13:57:06.023664",
     "status": "completed"
    },
    "tags": []
   },
   "source": [
    "#### Interpreting the clusters (properties of each cluster)"
   ]
  },
  {
   "cell_type": "markdown",
   "id": "448c37a0",
   "metadata": {
    "papermill": {
     "duration": 0.02958,
     "end_time": "2023-02-02T13:57:06.112563",
     "exception": false,
     "start_time": "2023-02-02T13:57:06.082983",
     "status": "completed"
    },
    "tags": []
   },
   "source": [
    "Cluster 0 is the cluster with the lowest values of the variables.\n",
    "The patients in this cluster are the ones with the lowest levels of depression, anxiety, and stress.\n",
    "\n",
    "Cluster 1 is the cluster with the highest values of the variables.\n",
    "The patients in this cluster are the ones with the highest levels of depression, anxiety, and stress.\n",
    "\n",
    "Cluster 2 is the cluster with the intermediate values of the variables.\n",
    "The patients in this cluster are the ones with the intermediate levels of depression, anxiety, and stress."
   ]
  },
  {
   "cell_type": "markdown",
   "id": "ae5a1338",
   "metadata": {
    "papermill": {
     "duration": 0.028226,
     "end_time": "2023-02-02T13:57:06.170669",
     "exception": false,
     "start_time": "2023-02-02T13:57:06.142443",
     "status": "completed"
    },
    "tags": []
   },
   "source": [
    "### Machine Learning"
   ]
  },
  {
   "cell_type": "markdown",
   "id": "68bc010b",
   "metadata": {
    "papermill": {
     "duration": 0.029232,
     "end_time": "2023-02-02T13:57:06.230643",
     "exception": false,
     "start_time": "2023-02-02T13:57:06.201411",
     "status": "completed"
    },
    "tags": []
   },
   "source": [
    "We will use the cluster labels as the target variable and the principal components as the features to train a logistic regression model."
   ]
  },
  {
   "cell_type": "code",
   "execution_count": 39,
   "id": "880eeee7",
   "metadata": {
    "collapsed": false,
    "execution": {
     "iopub.execute_input": "2023-02-02T13:57:06.292053Z",
     "iopub.status.busy": "2023-02-02T13:57:06.291010Z",
     "iopub.status.idle": "2023-02-02T13:57:06.296504Z",
     "shell.execute_reply": "2023-02-02T13:57:06.295674Z"
    },
    "jupyter": {
     "outputs_hidden": false
    },
    "papermill": {
     "duration": 0.038983,
     "end_time": "2023-02-02T13:57:06.298787",
     "exception": false,
     "start_time": "2023-02-02T13:57:06.259804",
     "status": "completed"
    },
    "tags": []
   },
   "outputs": [],
   "source": [
    "# Imports\n",
    "from sklearn.model_selection import train_test_split\n",
    "from sklearn.linear_model import LogisticRegression\n",
    "from sklearn.metrics import accuracy_score"
   ]
  },
  {
   "cell_type": "code",
   "execution_count": 40,
   "id": "08a53cf6",
   "metadata": {
    "collapsed": false,
    "execution": {
     "iopub.execute_input": "2023-02-02T13:57:06.360484Z",
     "iopub.status.busy": "2023-02-02T13:57:06.360004Z",
     "iopub.status.idle": "2023-02-02T13:57:06.386342Z",
     "shell.execute_reply": "2023-02-02T13:57:06.384861Z"
    },
    "jupyter": {
     "outputs_hidden": false
    },
    "papermill": {
     "duration": 0.061732,
     "end_time": "2023-02-02T13:57:06.390074",
     "exception": false,
     "start_time": "2023-02-02T13:57:06.328342",
     "status": "completed"
    },
    "tags": []
   },
   "outputs": [
    {
     "name": "stdout",
     "output_type": "stream",
     "text": [
      "Accuracy: 0.9887640449438202\n"
     ]
    }
   ],
   "source": [
    "# Split the data into training and test sets\n",
    "X_train, X_test, y_train, y_test = train_test_split(pca_features, cluster_labels, test_size=0.2, random_state=42) # 80% training and 20% test data sets\n",
    "\n",
    "# Create a logistic regression classifier\n",
    "logreg = LogisticRegression()\n",
    "\n",
    "# Fit the classifier to the training data\n",
    "logreg.fit(X_train, y_train)\n",
    "\n",
    "# Predict the labels of the test set: y_pred\n",
    "y_pred = logreg.predict(X_test)\n",
    "\n",
    "# Compute and print the accuracy\n",
    "accuracy = accuracy_score(y_test, y_pred)\n",
    "print(\"Accuracy: {}\".format(accuracy))"
   ]
  },
  {
   "cell_type": "markdown",
   "id": "25245ac4",
   "metadata": {
    "papermill": {
     "duration": 0.02821,
     "end_time": "2023-02-02T13:57:06.446694",
     "exception": false,
     "start_time": "2023-02-02T13:57:06.418484",
     "status": "completed"
    },
    "tags": []
   },
   "source": [
    "#### Model Evaluation"
   ]
  },
  {
   "cell_type": "code",
   "execution_count": 41,
   "id": "a5828cf7",
   "metadata": {
    "collapsed": false,
    "execution": {
     "iopub.execute_input": "2023-02-02T13:57:06.508175Z",
     "iopub.status.busy": "2023-02-02T13:57:06.507664Z",
     "iopub.status.idle": "2023-02-02T13:57:06.513842Z",
     "shell.execute_reply": "2023-02-02T13:57:06.512340Z"
    },
    "jupyter": {
     "outputs_hidden": false
    },
    "papermill": {
     "duration": 0.040427,
     "end_time": "2023-02-02T13:57:06.516968",
     "exception": false,
     "start_time": "2023-02-02T13:57:06.476541",
     "status": "completed"
    },
    "tags": []
   },
   "outputs": [],
   "source": [
    "# Import the necessary modules\n",
    "from sklearn.metrics import classification_report\n",
    "from sklearn.metrics import confusion_matrix"
   ]
  },
  {
   "cell_type": "code",
   "execution_count": 42,
   "id": "e64edf73",
   "metadata": {
    "collapsed": false,
    "execution": {
     "iopub.execute_input": "2023-02-02T13:57:06.577748Z",
     "iopub.status.busy": "2023-02-02T13:57:06.577192Z",
     "iopub.status.idle": "2023-02-02T13:57:06.591230Z",
     "shell.execute_reply": "2023-02-02T13:57:06.589967Z"
    },
    "jupyter": {
     "outputs_hidden": false
    },
    "papermill": {
     "duration": 0.047632,
     "end_time": "2023-02-02T13:57:06.594181",
     "exception": false,
     "start_time": "2023-02-02T13:57:06.546549",
     "status": "completed"
    },
    "tags": []
   },
   "outputs": [
    {
     "name": "stdout",
     "output_type": "stream",
     "text": [
      "[[59  1  0]\n",
      " [ 1 55  0]\n",
      " [ 0  0 62]]\n",
      "              precision    recall  f1-score   support\n",
      "\n",
      "           0       0.98      0.98      0.98        60\n",
      "           1       0.98      0.98      0.98        56\n",
      "           2       1.00      1.00      1.00        62\n",
      "\n",
      "    accuracy                           0.99       178\n",
      "   macro avg       0.99      0.99      0.99       178\n",
      "weighted avg       0.99      0.99      0.99       178\n",
      "\n"
     ]
    }
   ],
   "source": [
    "# Compute and print the confusion matrix and classification report\n",
    "print(confusion_matrix(y_test, y_pred))\n",
    "print(classification_report(y_test, y_pred))"
   ]
  },
  {
   "cell_type": "markdown",
   "id": "6c1f3baf",
   "metadata": {
    "papermill": {
     "duration": 0.029643,
     "end_time": "2023-02-02T13:57:06.653160",
     "exception": false,
     "start_time": "2023-02-02T13:57:06.623517",
     "status": "completed"
    },
    "tags": []
   },
   "source": [
    "In the confusion matrix, the rows represent the actual cluster labels, and the columns represent the predicted cluster labels.\n",
    "T"
   ]
  },
  {
   "cell_type": "markdown",
   "id": "3bdb3c02",
   "metadata": {
    "execution": {
     "iopub.execute_input": "2023-02-02T13:52:17.930622Z",
     "iopub.status.busy": "2023-02-02T13:52:17.930241Z",
     "iopub.status.idle": "2023-02-02T13:52:17.936620Z",
     "shell.execute_reply": "2023-02-02T13:52:17.935628Z",
     "shell.execute_reply.started": "2023-02-02T13:52:17.930560Z"
    },
    "jupyter": {
     "outputs_hidden": false
    },
    "papermill": {
     "duration": 0.028853,
     "end_time": "2023-02-02T13:57:06.712465",
     "exception": false,
     "start_time": "2023-02-02T13:57:06.683612",
     "status": "completed"
    },
    "tags": []
   },
   "source": [
    "* Precision is the ability of the classifier not to label as positive a sample that is negative.\n",
    "* Recall is the ability of the classifier to find all the positive samples.\n",
    "* f1-score is the weighted average of the precision and recall.\n",
    "* Support is the number of occurrences of each class in y_test."
   ]
  },
  {
   "cell_type": "markdown",
   "id": "3c67b55a",
   "metadata": {
    "papermill": {
     "duration": 0.030015,
     "end_time": "2023-02-02T13:57:06.772031",
     "exception": false,
     "start_time": "2023-02-02T13:57:06.742016",
     "status": "completed"
    },
    "tags": []
   },
   "source": [
    "### Conclusion"
   ]
  },
  {
   "cell_type": "markdown",
   "id": "10ba24d8",
   "metadata": {
    "papermill": {
     "duration": 0.029561,
     "end_time": "2023-02-02T13:57:06.831910",
     "exception": false,
     "start_time": "2023-02-02T13:57:06.802349",
     "status": "completed"
    },
    "tags": []
   },
   "source": [
    "In this project:\n",
    " *  For categorical variables, we used the chi-square test to determine the association between the variables.\n",
    " * For continuous variables, we used the Pearson correlation coefficient to determine the association between the variables. Then, we used the PCA to reduce the dimensionality of the data set, and we used the K-means clustering algorithm to cluster the patients into 3 groups based on their levels of depression, anxiety, and stress. We also used the logistic regression model to predict the cluster labels of the patients based on the principal components. The accuracy of the model is 0.99, which means that the model is able to predict the cluster labels of the patients with 94% accuracy."
   ]
  },
  {
   "cell_type": "markdown",
   "id": "54dd038b",
   "metadata": {
    "papermill": {
     "duration": 0.030825,
     "end_time": "2023-02-02T13:57:06.893481",
     "exception": false,
     "start_time": "2023-02-02T13:57:06.862656",
     "status": "completed"
    },
    "tags": []
   },
   "source": [
    "### References"
   ]
  },
  {
   "cell_type": "markdown",
   "id": "011104f4",
   "metadata": {
    "papermill": {
     "duration": 0.028926,
     "end_time": "2023-02-02T13:57:06.951603",
     "exception": false,
     "start_time": "2023-02-02T13:57:06.922677",
     "status": "completed"
    },
    "tags": []
   },
   "source": [
    "https://www.kaggle.com/datasets/thedevastator/medical-student-mental-health\n",
    "\n",
    "https://zenodo.org/record/5702895#.Y8OraNJBwUE\n"
   ]
  },
  {
   "cell_type": "markdown",
   "id": "99ff998e",
   "metadata": {
    "papermill": {
     "duration": 0.028502,
     "end_time": "2023-02-02T13:57:07.010905",
     "exception": false,
     "start_time": "2023-02-02T13:57:06.982403",
     "status": "completed"
    },
    "tags": []
   },
   "source": [
    "\n"
   ]
  }
 ],
 "metadata": {
  "kernelspec": {
   "display_name": "Python 3",
   "language": "python",
   "name": "python3"
  },
  "language_info": {
   "codemirror_mode": {
    "name": "ipython",
    "version": 3
   },
   "file_extension": ".py",
   "mimetype": "text/x-python",
   "name": "python",
   "nbconvert_exporter": "python",
   "pygments_lexer": "ipython3",
   "version": "3.7.12"
  },
  "papermill": {
   "default_parameters": {},
   "duration": 25.68042,
   "end_time": "2023-02-02T13:57:08.368296",
   "environment_variables": {},
   "exception": null,
   "input_path": "__notebook__.ipynb",
   "output_path": "__notebook__.ipynb",
   "parameters": {},
   "start_time": "2023-02-02T13:56:42.687876",
   "version": "2.3.4"
  }
 },
 "nbformat": 4,
 "nbformat_minor": 5
}
