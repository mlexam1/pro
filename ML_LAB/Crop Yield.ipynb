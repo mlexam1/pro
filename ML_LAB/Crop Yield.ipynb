{
 "cells": [
  {
   "cell_type": "code",
   "execution_count": 2,
   "id": "20a47a0e",
   "metadata": {},
   "outputs": [],
   "source": [
    "import pandas as pd\n",
    "from sklearn.decomposition import PCA\n",
    "from sklearn.model_selection import train_test_split\n",
    "from sklearn.preprocessing import StandardScaler\n",
    "\n",
    "# Assuming your data is stored in a CSV file\n",
    "data = pd.read_csv('Datasets\\Datasets\\Agricultural yield.csv')\n",
    "\n",
    "# Separate features and target variable\n",
    "X = data.drop('Yield_kg_per_hectare', axis=1)\n",
    "y = data['Yield_kg_per_hectare']\n",
    "\n",
    "# Standardize the features\n",
    "scaler = StandardScaler()\n",
    "X_scaled = scaler.fit_transform(X)\n",
    "\n",
    "# Apply PCA\n",
    "pca = PCA(n_components=0.99)\n",
    "X_pca = pca.fit_transform(X_scaled)\n",
    "\n",
    "# Split data into training and testing sets\n",
    "X_train, X_test, y_train, y_test = train_test_split(X_pca, y, test_size=0.2, random_state=42)\n"
   ]
  },
  {
   "cell_type": "code",
   "execution_count": 4,
   "metadata": {},
   "outputs": [
    {
     "data": {
      "text/html": [
       "<div>\n",
       "<style scoped>\n",
       "    .dataframe tbody tr th:only-of-type {\n",
       "        vertical-align: middle;\n",
       "    }\n",
       "\n",
       "    .dataframe tbody tr th {\n",
       "        vertical-align: top;\n",
       "    }\n",
       "\n",
       "    .dataframe thead th {\n",
       "        text-align: right;\n",
       "    }\n",
       "</style>\n",
       "<table border=\"1\" class=\"dataframe\">\n",
       "  <thead>\n",
       "    <tr style=\"text-align: right;\">\n",
       "      <th></th>\n",
       "      <th>Soil_Quality</th>\n",
       "      <th>Seed_Variety</th>\n",
       "      <th>Fertilizer_Amount_kg_per_hectare</th>\n",
       "      <th>Sunny_Days</th>\n",
       "      <th>Rainfall_mm</th>\n",
       "      <th>Irrigation_Schedule</th>\n",
       "      <th>Yield_kg_per_hectare</th>\n",
       "    </tr>\n",
       "  </thead>\n",
       "  <tbody>\n",
       "    <tr>\n",
       "      <th>count</th>\n",
       "      <td>16000.000000</td>\n",
       "      <td>16000.000000</td>\n",
       "      <td>16000.000000</td>\n",
       "      <td>16000.000000</td>\n",
       "      <td>16000.000000</td>\n",
       "      <td>16000.000000</td>\n",
       "      <td>16000.000000</td>\n",
       "    </tr>\n",
       "    <tr>\n",
       "      <th>mean</th>\n",
       "      <td>74.759340</td>\n",
       "      <td>0.702000</td>\n",
       "      <td>175.179275</td>\n",
       "      <td>99.927792</td>\n",
       "      <td>500.527248</td>\n",
       "      <td>5.033313</td>\n",
       "      <td>713.999725</td>\n",
       "    </tr>\n",
       "    <tr>\n",
       "      <th>std</th>\n",
       "      <td>14.529295</td>\n",
       "      <td>0.457394</td>\n",
       "      <td>71.971900</td>\n",
       "      <td>9.980610</td>\n",
       "      <td>100.062422</td>\n",
       "      <td>2.229689</td>\n",
       "      <td>202.210914</td>\n",
       "    </tr>\n",
       "    <tr>\n",
       "      <th>min</th>\n",
       "      <td>50.007519</td>\n",
       "      <td>0.000000</td>\n",
       "      <td>50.049204</td>\n",
       "      <td>51.478823</td>\n",
       "      <td>109.997455</td>\n",
       "      <td>0.000000</td>\n",
       "      <td>57.514891</td>\n",
       "    </tr>\n",
       "    <tr>\n",
       "      <th>25%</th>\n",
       "      <td>62.165317</td>\n",
       "      <td>0.000000</td>\n",
       "      <td>112.434736</td>\n",
       "      <td>93.176143</td>\n",
       "      <td>433.369759</td>\n",
       "      <td>3.000000</td>\n",
       "      <td>577.059891</td>\n",
       "    </tr>\n",
       "    <tr>\n",
       "      <th>50%</th>\n",
       "      <td>74.675052</td>\n",
       "      <td>1.000000</td>\n",
       "      <td>175.740993</td>\n",
       "      <td>99.969540</td>\n",
       "      <td>499.955259</td>\n",
       "      <td>5.000000</td>\n",
       "      <td>729.421176</td>\n",
       "    </tr>\n",
       "    <tr>\n",
       "      <th>75%</th>\n",
       "      <td>87.376167</td>\n",
       "      <td>1.000000</td>\n",
       "      <td>237.621854</td>\n",
       "      <td>106.685691</td>\n",
       "      <td>567.292539</td>\n",
       "      <td>6.000000</td>\n",
       "      <td>857.442893</td>\n",
       "    </tr>\n",
       "    <tr>\n",
       "      <th>max</th>\n",
       "      <td>99.998101</td>\n",
       "      <td>1.000000</td>\n",
       "      <td>299.987645</td>\n",
       "      <td>142.417719</td>\n",
       "      <td>872.349673</td>\n",
       "      <td>15.000000</td>\n",
       "      <td>1385.113600</td>\n",
       "    </tr>\n",
       "  </tbody>\n",
       "</table>\n",
       "</div>"
      ],
      "text/plain": [
       "       Soil_Quality  Seed_Variety  Fertilizer_Amount_kg_per_hectare  \\\n",
       "count  16000.000000  16000.000000                      16000.000000   \n",
       "mean      74.759340      0.702000                        175.179275   \n",
       "std       14.529295      0.457394                         71.971900   \n",
       "min       50.007519      0.000000                         50.049204   \n",
       "25%       62.165317      0.000000                        112.434736   \n",
       "50%       74.675052      1.000000                        175.740993   \n",
       "75%       87.376167      1.000000                        237.621854   \n",
       "max       99.998101      1.000000                        299.987645   \n",
       "\n",
       "         Sunny_Days   Rainfall_mm  Irrigation_Schedule  Yield_kg_per_hectare  \n",
       "count  16000.000000  16000.000000         16000.000000          16000.000000  \n",
       "mean      99.927792    500.527248             5.033313            713.999725  \n",
       "std        9.980610    100.062422             2.229689            202.210914  \n",
       "min       51.478823    109.997455             0.000000             57.514891  \n",
       "25%       93.176143    433.369759             3.000000            577.059891  \n",
       "50%       99.969540    499.955259             5.000000            729.421176  \n",
       "75%      106.685691    567.292539             6.000000            857.442893  \n",
       "max      142.417719    872.349673            15.000000           1385.113600  "
      ]
     },
     "execution_count": 4,
     "metadata": {},
     "output_type": "execute_result"
    }
   ],
   "source": [
    "data.describe()"
   ]
  },
  {
   "cell_type": "code",
   "execution_count": 5,
   "metadata": {},
   "outputs": [
    {
     "data": {
      "text/plain": [
       "Soil_Quality                        0\n",
       "Seed_Variety                        0\n",
       "Fertilizer_Amount_kg_per_hectare    0\n",
       "Sunny_Days                          0\n",
       "Rainfall_mm                         0\n",
       "Irrigation_Schedule                 0\n",
       "Yield_kg_per_hectare                0\n",
       "dtype: int64"
      ]
     },
     "execution_count": 5,
     "metadata": {},
     "output_type": "execute_result"
    }
   ],
   "source": [
    "data.isna().sum()"
   ]
  },
  {
   "cell_type": "code",
   "execution_count": 2,
   "id": "0581708b",
   "metadata": {},
   "outputs": [
    {
     "name": "stdout",
     "output_type": "stream",
     "text": [
      "MSE: 5971.9600708577045\n",
      "R^2: 0.8578075068323737\n"
     ]
    }
   ],
   "source": [
    "from sklearn.tree import DecisionTreeRegressor\n",
    "from sklearn.metrics import mean_squared_error, r2_score\n",
    "\n",
    "# Initialize the Decision Tree Regressor\n",
    "dt = DecisionTreeRegressor(random_state=42)\n",
    "\n",
    "# Train the model\n",
    "dt.fit(X_train, y_train)\n",
    "\n",
    "# Predictions\n",
    "y_pred = dt.predict(X_test)\n",
    "\n",
    "# Evaluation\n",
    "print(f'MSE: {mean_squared_error(y_test, y_pred)}')\n",
    "print(f'R^2: {r2_score(y_test, y_pred)}')\n"
   ]
  },
  {
   "cell_type": "code",
   "execution_count": 4,
   "id": "dfaa9879",
   "metadata": {},
   "outputs": [
    {
     "name": "stdout",
     "output_type": "stream",
     "text": [
      "Fitting 5 folds for each of 36 candidates, totalling 180 fits\n",
      "Best parameters: {'max_depth': 10, 'max_features': 'auto', 'min_samples_leaf': 10, 'min_samples_split': 10}\n",
      "MSE: 4608.794421205597\n",
      "R^2: 0.8902645092276796\n"
     ]
    },
    {
     "name": "stderr",
     "output_type": "stream",
     "text": [
      "C:\\Users\\gheti\\anaconda3\\lib\\site-packages\\sklearn\\tree\\_classes.py:277: FutureWarning: `max_features='auto'` has been deprecated in 1.1 and will be removed in 1.3. To keep the past behaviour, explicitly set `max_features=1.0'`.\n",
      "  warnings.warn(\n"
     ]
    }
   ],
   "source": [
    "from sklearn.model_selection import GridSearchCV\n",
    "\n",
    "# Parameters for tuning\n",
    "param_grid = {\n",
    "    'max_depth': [10],\n",
    "    'min_samples_split': [10,20,30],\n",
    "    'min_samples_leaf': [4, 10, 20],\n",
    "    'max_features': ['auto', 'sqrt', 'log2', None]\n",
    "}\n",
    "\n",
    "# Grid Search\n",
    "grid_search = GridSearchCV(estimator=dt, param_grid=param_grid, cv=5, n_jobs=-1, verbose=2)\n",
    "grid_search.fit(X_train, y_train)\n",
    "\n",
    "# Best parameters\n",
    "print(f'Best parameters: {grid_search.best_params_}')\n",
    "\n",
    "# Train using the best parameters\n",
    "best_dt = grid_search.best_estimator_\n",
    "\n",
    "# Predict and Evaluate\n",
    "best_predictions = best_dt.predict(X_test)\n",
    "print(f'MSE: {mean_squared_error(y_test, best_predictions)}')\n",
    "print(f'R^2: {r2_score(y_test, best_predictions)}')\n"
   ]
  },
  {
   "cell_type": "code",
   "execution_count": null,
   "id": "bd1eec5e",
   "metadata": {},
   "outputs": [],
   "source": [
    "# Fitting 5 folds for each of 36 candidates, totalling 180 fits\n",
    "# Best parameters: {'max_depth': 10, 'max_features': 'auto', 'min_samples_leaf': 10, 'min_samples_split': 10}\n",
    "# MSE: 4608.794421205597\n",
    "# R^2: 0.8902645092276796\n"
   ]
  },
  {
   "cell_type": "code",
   "execution_count": null,
   "id": "987b4863",
   "metadata": {},
   "outputs": [],
   "source": []
  }
 ],
 "metadata": {
  "kernelspec": {
   "display_name": "Python 3 (ipykernel)",
   "language": "python",
   "name": "python3"
  },
  "language_info": {
   "codemirror_mode": {
    "name": "ipython",
    "version": 3
   },
   "file_extension": ".py",
   "mimetype": "text/x-python",
   "name": "python",
   "nbconvert_exporter": "python",
   "pygments_lexer": "ipython3",
   "version": "3.11.1"
  }
 },
 "nbformat": 4,
 "nbformat_minor": 5
}
